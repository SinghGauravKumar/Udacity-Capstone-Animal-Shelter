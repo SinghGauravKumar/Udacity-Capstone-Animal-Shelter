{
 "cells": [
  {
   "cell_type": "code",
   "execution_count": 1,
   "metadata": {
    "collapsed": false,
    "scrolled": true
   },
   "outputs": [
    {
     "ename": "ImportError",
     "evalue": "No module named request",
     "output_type": "error",
     "traceback": [
      "\u001b[1;31m---------------------------------------------------------------------------\u001b[0m",
      "\u001b[1;31mImportError\u001b[0m                               Traceback (most recent call last)",
      "\u001b[1;32m<ipython-input-1-7392c063f03b>\u001b[0m in \u001b[0;36m<module>\u001b[1;34m()\u001b[0m\n\u001b[0;32m      8\u001b[0m \u001b[1;32mfrom\u001b[0m \u001b[0msklearn\u001b[0m\u001b[1;33m.\u001b[0m\u001b[0mgrid_search\u001b[0m \u001b[1;32mimport\u001b[0m \u001b[0mGridSearchCV\u001b[0m\u001b[1;33m\u001b[0m\u001b[0m\n\u001b[0;32m      9\u001b[0m \u001b[1;32mfrom\u001b[0m \u001b[0msklearn\u001b[0m\u001b[1;33m.\u001b[0m\u001b[0mcross_validation\u001b[0m \u001b[1;32mimport\u001b[0m \u001b[0mStratifiedKFold\u001b[0m\u001b[1;33m,\u001b[0m \u001b[0mcross_val_score\u001b[0m\u001b[1;33m\u001b[0m\u001b[0m\n\u001b[1;32m---> 10\u001b[1;33m \u001b[1;32mfrom\u001b[0m \u001b[0murllib\u001b[0m\u001b[1;33m.\u001b[0m\u001b[0mrequest\u001b[0m \u001b[1;32mimport\u001b[0m \u001b[0mRequest\u001b[0m\u001b[1;33m,\u001b[0m \u001b[0murlopen\u001b[0m\u001b[1;33m\u001b[0m\u001b[0m\n\u001b[0m\u001b[0;32m     11\u001b[0m \u001b[1;32mfrom\u001b[0m \u001b[0mbs4\u001b[0m \u001b[1;32mimport\u001b[0m \u001b[0mBeautifulSoup\u001b[0m\u001b[1;33m\u001b[0m\u001b[0m\n\u001b[0;32m     12\u001b[0m \u001b[1;32mimport\u001b[0m \u001b[0mre\u001b[0m\u001b[1;33m\u001b[0m\u001b[0m\n",
      "\u001b[1;31mImportError\u001b[0m: No module named request"
     ]
    }
   ],
   "source": [
    "import pandas\n",
    "import numpy as np\n",
    "import matplotlib.pyplot as plt\n",
    "%matplotlib inline\n",
    "from sklearn.preprocessing import Imputer,StandardScaler,MinMaxScaler\n",
    "from sklearn.ensemble import RandomForestClassifier,ExtraTreesClassifier,GradientBoostingClassifier\n",
    "from sklearn.metrics import log_loss\n",
    "from sklearn.grid_search import GridSearchCV\n",
    "from sklearn.cross_validation import StratifiedKFold, cross_val_score\n",
    "from urllib.request import Request, urlopen\n",
    "from bs4 import BeautifulSoup\n",
    "import re\n",
    "import difflib\n",
    "import itertools\n",
    "import matplotlib.cm as cm\n",
    "import copy\n",
    "from xgboost.sklearn import XGBClassifier\n",
    "from sklearn.svm import SVC\n",
    "from scipy.stats import kde,chi2_contingency\n",
    "import warnings\n",
    "warnings.filterwarnings('ignore')"
   ]
  },
  {
   "cell_type": "markdown",
   "metadata": {},
   "source": [
    "## Patterns in Time:\n",
    "\n",
    "Cats have an annual pattern in terms of their total volume, most likely due to \"kitten season\".  Dogs do not have such an annual pattern.\n",
    "There is a weekly pattern to the outcomes for both cats and dogs.\n",
    "\n",
    "Both cats and dogs are adopted primarily in the evening. On the weekends, the daytime adoption rates increase but the evening remain the busiest times for adoption. The single most important hour for adoptions is 5pm on Sundays.\n",
    "\n",
    "Cat euthanasia occurs at all times, but there is a distinct pattern of euthanasias occurring in large numbers at 12pm to 1pm on Mondays, at 3pm on Mondays and Tuesdays, at 11am on Tuesdays, and and at 1pm on Saturdays.\n",
    "\n",
    "Dogs are euthanised primarily on Thursdays at 3pm, with additional euthanasias taking place at 1pm to 2pm on Mondays, 5pm on Wednesdays, and 4pm on Sundays. Dog events occurring at 8am on Mondays and 9pm on Sundays are very likely to be euthanasias.\n",
    "\n",
    "Transfers show a large number of events at 0 hours both for cats and dogs. This is most likely a result of transfer times not being entered. The majority of actual cat transfers appear to occur at 9am each morning. Dog patterns occur throughout the week at various times, with an obvious elevation at 4pm on a Friday.\n",
    "\n",
    "Returns appear to happen between 11am and 6pm for both cats and dogs. As with transfers, there is an apparent artifact at 0 hours where time data was probably not entered.\n",
    "\n",
    "## Animal Ages:\n",
    "There is an overrepresentation of animals of age 0 being returned to their owners or transferred. This is most likely due to their leaving the shelter before an age could be entered into the system. For both cats and dogs, animals in the puppy/kitten age group seem to be both the most frequent within the shelter, and the most popular for adoption.\n",
    "\n",
    "## Names:\n",
    "A cat's name is probably useful to predict the chance of it being adopted, but the effect is not very strong. For dogs, the name appears to be much more important. For example, dogs named Daisy, Lucy, or Buddy seem to have better adoption rates than those named Max, Bella, or Rocky.\n",
    "\n",
    "## Breeds:\n",
    "\n",
    "The more common breeds of cats outnumber the rarer ones by more than 1000-fold. Cat breeds do have an effect on outcome, with Domestic Shorthairs (the most common type of breed) being significantly less likely to be adopted or returned to an owner than other breed types.\n",
    "\n",
    "Almost all of the dogs were mixed breeds. When considering dogs in terms of type ( as defined by The Kennel Club of The United Kingom):\n",
    "\n",
    "+ Working dogs and dogs of completely unknown types are more likely to be euthanised.\n",
    "+ Terriers,Gundogs, Pastoral, and Toy Dogs are more likely to be adopted. \n",
    "+ Sporting, Hound, and Working dogs are more likely to be returned to their owners (Maybe these dogs are more likely to get lost in the first place if they are being used for hunting etc?). \n",
    "+ Utility and Toy dogs have the highest transfer rates.\n",
    "\n",
    "Scary dogs (ie those breeds I personally consider to be more dangerous) are three times as likely to be euthanised as non-scary dogs, and are also less likely to be adopted. They are however more likely to be returned to their owners. As one would expect, scariness has no effect on a dog's chances of dying from natural causes.\n",
    "\n",
    "## Colors:\n",
    "Cats with a rare color are more likely to be euthanised, but there is no obvious reason for this."
   ]
  },
  {
   "cell_type": "markdown",
   "metadata": {},
   "source": [
    "**This project will require a lot of grouping and calculating fractions with groups, so I'm going to write a function to make that easy**"
   ]
  },
  {
   "cell_type": "code",
   "execution_count": null,
   "metadata": {
    "collapsed": false
   },
   "outputs": [],
   "source": [
    "def groupCountFractionals(dataframe,target,outer):\n",
    "    '''\n",
    "    Returns the fraction of target_criteria_group / outer_criteria_group counts.\n",
    "    \n",
    "    Be mindful to take group sizes (Outer Count) into consideration. \n",
    "    As outer count gets smaller, the fraction value\n",
    "    will obviously become increasingly large.\n",
    "    __________________\n",
    "    Parameters:\n",
    "    dataframe: a pandas dataframe\n",
    "    target: a string corresponding to the column of interest in the dataframe\n",
    "    outer: a list of the columns by which the counts should be conditioned\n",
    "    \n",
    "    '''\n",
    "    dataframe[\"Count\"] = 1\n",
    "    outcome_variable = outer[0]\n",
    "    inner_group_criteria = outer + [target]\n",
    "    outer_counts = dataframe.groupby(outer).count()[[\"Count\"]]\n",
    "    outer_counts.columns = [\"OuterCount\"]\n",
    "    outer_counts = outer_counts.reset_index()\n",
    "    inner_counts = dataframe.groupby(inner_group_criteria).count()[[\"Count\"]]\n",
    "    inner_counts.columns = [\"InnerCount\"]\n",
    "    inner_counts = inner_counts.reset_index()\n",
    "    in_and_out =pandas.merge(inner_counts,outer_counts,on=outer,how=\"right\")\n",
    "    in_and_out[\"Fraction\"] = in_and_out[\"InnerCount\"] / in_and_out[\"OuterCount\"]\n",
    "    \n",
    "    '''The following code is for tracking groups that have counts of zero'''\n",
    "    group_values = [list(dataframe[o].unique()) for o in outer]\n",
    "    inner_values = list(dataframe[target].unique())\n",
    "    group_values.append(inner_values)\n",
    "    group_permutations = list(itertools.product(*group_values))\n",
    "    null_df = pandas.DataFrame(group_permutations)\n",
    "    null_columns = outer.copy()\n",
    "    null_columns.append(target)\n",
    "    null_df.columns = null_columns\n",
    "    \n",
    "    null_df = pandas.merge(null_df,outer_counts, on = outer,how=\"outer\")\n",
    "    null_df[\"InnerCount\"] = 0\n",
    "    null_df[\"Fraction\"] = 0\n",
    "    \n",
    "    absent_rows = pandas.merge(null_df,in_and_out,how=\"outer\",on=null_columns,indicator=\"left_only\")\n",
    "    zero_rows = null_df[absent_rows[\"left_only\"] == \"left_only\"]\n",
    "    return pandas.concat([in_and_out,zero_rows]).fillna(0)  \n",
    "\n",
    "\n",
    "\n",
    "'''Testing the above function'''\n",
    "\n",
    "testing_df = pandas.DataFrame({\n",
    "        \n",
    "        \"CriteriaA\" : [\"A\",\"A\",   \"B\",\"B\",    \"C\",\"C\"],\n",
    "        \n",
    "        \"CriteriaB\" : [\"X\",\"Y\",   \"X\",\"Y\",    \"X\",\"Y\"],    #Each group in CriteriaA is split 50:50 \n",
    "                                                           #between CriteriaB's X and Y\n",
    "        \n",
    "        \"CriteriaC\" : [\"T\",\"T\",   \"U\",\"U\",    \"V\",\"V\"]     #CriteriaC splits the groups the same as CriteriaA\n",
    "        \n",
    "        \n",
    "    })\n",
    "testing_dfA_C = pandas.DataFrame({\n",
    "        \"CriteriaA\": [\"A\",\"A\",\"A\",\"B\",\"B\",\"B\",\"C\",\"C\",\"C\"],\n",
    "        \n",
    "        \"CriteriaC\": [\"T\",\"U\",\"V\",\"T\",\"U\",\"V\",\"T\",\"U\",\"V\"],\n",
    "        \n",
    "        \"InnerCount\":[ 2,  0,  0,  0,  2,  0,  0,  0,  2],\n",
    "        \n",
    "        \"OuterCount\":[ 2,  2,  2,  2,  2,  2,  2,  2,  2],\n",
    "        \n",
    "        \"Fraction\":  [ 1,  0,  0,  0,  1,  0,  0,  0,  1]\n",
    "    })\n",
    "testing_dfA_B = pandas.DataFrame({\n",
    "        \"CriteriaA\": [\"A\",\"A\",\"B\",\"B\",\"C\",\"C\"],\n",
    "        \n",
    "        \"CriteriaC\": [\"X\",\"Y\",\"X\",\"Y\",\"X\",\"Y\"],\n",
    "        \n",
    "        \"Fraction\":  [0.5,0.5,0.5,0.5,0.5,0.5],\n",
    "        \n",
    "        \"InnerCount\":[ 1,  1,  1,  1,  1,  1],\n",
    "        \n",
    "        \"OuterCount\":[ 2,  2,  2,  2,  2,  2],\n",
    "    })\n",
    "\n",
    "testing_dfAB_C = pandas.DataFrame({\n",
    "        \"CriteriaA\": [\"A\",\"A\",\"A\",\"B\",\"B\",\"B\",\"C\",\"C\",\"C\",\"A\",\"A\",\"A\",\"B\",\"B\",\"B\",\"C\",\"C\",\"C\"],\n",
    "        \"CriteriaB\": [\"X\",\"X\",\"X\",\"X\",\"X\",\"X\",\"X\",\"X\",\"X\",\"Y\",\"Y\",\"Y\",\"Y\",\"Y\",\"Y\",\"Y\",\"Y\",\"Y\"],\n",
    "        \"CriteriaC\": [\"T\",\"U\",\"V\",\"T\",\"U\",\"V\",\"T\",\"U\",\"V\",\"T\",\"U\",\"V\",\"T\",\"U\",\"V\",\"T\",\"U\",\"V\"],\n",
    "        \n",
    "        \"InnerCount\":[ 1,  1,  1,  1,  1,  1,  1,  1,  1,  1,  1,  1,  1,  1,  1,  1,  1,  1],\n",
    "        \n",
    "        \"OuterCount\":[ 1,  1,  1,  1,  1,  1,  1,  1,  1,  1,  1,  1,  1,  1,  1,  1,  1,  1],\n",
    "        \n",
    "        \"Fraction\":  [ 1,  1,  1,  1,  1,  1,  1,  1,  1,  1,  1,  1,  1,  1,  1,  1,  1,  1]\n",
    "       \n",
    "    })\n",
    "assert(np.array_equal(\\\n",
    "    groupCountFractionals(testing_df,\"CriteriaC\",[\"CriteriaA\"]).\\\n",
    "               sort_values([\"CriteriaA\",\"CriteriaC\"]).values,testing_dfA_C.values))\n",
    "assert(np.array_equal(\\\n",
    "    groupCountFractionals(testing_df,\"CriteriaB\",[\"CriteriaA\"]).\\\n",
    "               sort_values([\"CriteriaA\",\"CriteriaB\"]).values,testing_dfA_B.values))\n",
    "assert(len(groupCountFractionals(testing_df,\"CriteriaC\",[\"CriteriaA\",\"CriteriaB\"]).index) ==len(testing_dfAB_C.index))"
   ]
  },
  {
   "cell_type": "code",
   "execution_count": null,
   "metadata": {
    "collapsed": true
   },
   "outputs": [],
   "source": [
    "def parseAge(row):\n",
    "    age = row[\"AgeuponOutcome\"]\n",
    "    if age == 0:\n",
    "        return 0\n",
    "    if type(age) is float:\n",
    "        return np.nan\n",
    "    elif \"day\" in age:\n",
    "        return 1\n",
    "    elif \"months\" in age:\n",
    "        return 30 * int(age[:1])\n",
    "    elif \"month\" in age:\n",
    "        return 30\n",
    "    elif \"weeks\" in age:\n",
    "        return 7 * int(age[:1])\n",
    "    elif \"week\" in age:\n",
    "        return 7\n",
    "    elif \"years\" in age:\n",
    "        return 365 * int(age[:1])\n",
    "    elif \"year\" in age:\n",
    "        return 365\n",
    "\n",
    "def spayNeuterParser(animal):\n",
    "    sex = animal.SexuponOutcome\n",
    "    if \"Unknown\" in sex:\n",
    "        return \"UnknownFixed\"\n",
    "    elif \"Spayed\" in sex:\n",
    "        return \"Fixed\"\n",
    "    elif \"Neutered\" in sex:\n",
    "        return \"Fixed\"\n",
    "    else:\n",
    "        return \"Intact\"\n",
    "    \n",
    "    \n",
    "def isPedigree(animal):\n",
    "    if \"/\" in animal.Breed:\n",
    "        return 0\n",
    "    elif \"Mix\" in animal.Breed:\n",
    "        return 0\n",
    "    else:\n",
    "        return 1"
   ]
  },
  {
   "cell_type": "code",
   "execution_count": null,
   "metadata": {
    "collapsed": false
   },
   "outputs": [],
   "source": [
    "training = pandas.read_csv(\"train.csv\",encoding='utf-8')\n",
    "\n",
    "\n",
    "\n",
    "training[\"Name\"] = training[\"Name\"].fillna(0)\n",
    "training.loc[training.Name == \"X\",\"Name\"] = 0\n",
    "training.SexuponOutcome = training.SexuponOutcome.fillna(\"Unknown\")\n",
    "training[\"Age\"] = training.apply(parseAge,axis=1)\n",
    "training[\"Named\"] = [1 if x!= 0 else 0 for x in training.Name ]\n",
    "training[\"Gender\"] = [1 if \"Female\" in x else 0 for x in training.SexuponOutcome]\n",
    "intact = pandas.get_dummies(training.apply(spayNeuterParser,axis=1))\n",
    "training = training.join(intact)\n",
    "training.DateTime = pandas.to_datetime(training.DateTime)\n",
    "training[\"WeekDay\"] = training.DateTime.dt.dayofweek\n",
    "training[\"MonthDayFraction\"] = training.DateTime.dt.day / training.DateTime.dt.days_in_month\n",
    "training[\"Month\"] = training.DateTime.dt.month\n",
    "training[\"WeekOfYear\"] = training.DateTime.dt.weekofyear\n",
    "training[\"Age\"] = training.Age.fillna(training.Age.mean())\n",
    "training[\"Pedigree\"] = training.apply(isPedigree,axis=1)\n",
    "training[\"Hour\"] = training.DateTime.dt.hour\n",
    "training[\"Year\"] = training.DateTime.dt.year\n",
    "training[\"CumulativeTime\"] = training.DateTime.apply(lambda x: pandas.Timedelta(x - pandas.Timestamp('2013-10-01 09:31:00'),'m') )\n",
    "training.CumulativeTime = training.CumulativeTime/ np.timedelta64(1, 'h')\n",
    "training = training.sort_values([\"CumulativeTime\"])\n",
    "\n",
    "hour_dummies = pandas.get_dummies(training.Hour)\n",
    "hour_dummies.columns = [\"Hour\" + str(c) for c in hour_dummies.columns]\n",
    "day_dummies = pandas.get_dummies(training.WeekDay)\n",
    "day_dummies.columns = [\"Day\" + str(d) for d in day_dummies.columns]\n",
    "training = training.join(day_dummies)\n",
    "training = training.join(hour_dummies)\n"
   ]
  },
  {
   "cell_type": "markdown",
   "metadata": {},
   "source": [
    "# Shelter activity over time"
   ]
  },
  {
   "cell_type": "markdown",
   "metadata": {},
   "source": [
    "**The first thing I want to check is if there are any changes in the rates over time. For example, if the shelter got a bunch of extra funding halfway through the dataset, the transfer rate might decrease.**"
   ]
  },
  {
   "cell_type": "code",
   "execution_count": null,
   "metadata": {
    "collapsed": false,
    "scrolled": false
   },
   "outputs": [],
   "source": [
    "adoptions = training[training.OutcomeType==\"Adoption\"]\n",
    "adoptions[\"CumulativeAdoptions\"] = list(range(len(adoptions.index)))\n",
    "euthanasias = training[training.OutcomeType==\"Euthanasia\"]\n",
    "euthanasias[\"CumulativeEuthanasias\"] = list(range(len(euthanasias.index)))\n",
    "transfers = training[training.OutcomeType==\"Transfer\"]\n",
    "transfers[\"CumulativeTransfers\"] = list(range(len(transfers.index)))\n",
    "returns = training[training.OutcomeType==\"Return_to_Owner\"]\n",
    "returns[\"CumulativeReturns\"] = list(range(len(returns)))\n",
    "deaths = training[training.OutcomeType == \"Died\"]\n",
    "deaths[\"CumulativeDeaths\"] = list(range(len(deaths)))\n",
    "\n",
    "plt.figure(figsize=(17,7))\n",
    "plt.plot(adoptions.CumulativeTime,adoptions.CumulativeAdoptions,label=\"Cumulative Adoption Count\")\n",
    "plt.plot(euthanasias.CumulativeTime,euthanasias.CumulativeEuthanasias,label=\"Cumulative Euthanasia Count\")\n",
    "plt.plot(transfers.CumulativeTime,transfers.CumulativeTransfers,label=\"Cumulative Transfer Count\")\n",
    "plt.plot(returns.CumulativeTime,returns.CumulativeReturns,label=\"Cumulative Return Count\")\n",
    "plt.plot(deaths.CumulativeTime,deaths.CumulativeDeaths,label = \"Cumulative Death Count\")\n",
    "plt.legend(loc=2)\n",
    "plt.xlabel(\"Cumulative time (Hours)\")\n",
    "plt.ylabel(\"Cumulative number of events\")"
   ]
  },
  {
   "cell_type": "markdown",
   "metadata": {},
   "source": [
    "**There are some subtle changes in the adoption and euthanasia rates over time, but nothing drastic. **\n"
   ]
  },
  {
   "cell_type": "code",
   "execution_count": null,
   "metadata": {
    "collapsed": true
   },
   "outputs": [],
   "source": [
    "dogs = training[training.AnimalType==\"Dog\"]\n",
    "cats = training[training.AnimalType ==\"Cat\"]"
   ]
  },
  {
   "cell_type": "markdown",
   "metadata": {},
   "source": [
    "# Times and Days\n",
    "\n",
    "**I would expect the day of the week and the time of day to influence outcomes.**\n"
   ]
  },
  {
   "cell_type": "code",
   "execution_count": null,
   "metadata": {
    "collapsed": false,
    "scrolled": false
   },
   "outputs": [],
   "source": [
    "hour_day_breakdown = groupCountFractionals(cats,\"OutcomeType\",[\"Hour\",\"WeekDay\"])\n",
    "died = hour_day_breakdown[hour_day_breakdown.OutcomeType == \"Died\"].sort_values([\"WeekDay\",\"Hour\"])\n",
    "euth = hour_day_breakdown[hour_day_breakdown.OutcomeType == \"Euthanasia\"].sort_values([\"WeekDay\",\"Hour\"])\n",
    "transfer = hour_day_breakdown[hour_day_breakdown.OutcomeType == \"Transfer\"].sort_values([\"WeekDay\",\"Hour\"])\n",
    "returned = hour_day_breakdown[hour_day_breakdown.OutcomeType == \"Return_to_owner\"].sort_values([\"WeekDay\",\"Hour\"])\n",
    "adopt = hour_day_breakdown[hour_day_breakdown.OutcomeType == \"Adoption\"].sort_values([\"WeekDay\",\"Hour\"])\n",
    "\n",
    "n_hours = len(died.Hour.unique())\n",
    "\n",
    "hours = hour_day_breakdown.Hour.unique()\n",
    "days = [\"Monday\",\"Tuesday\",\"Wednesday\",\"Thursday\",\"Friday\",\"Saturday\",\"Sunday\"]\n",
    "\n",
    "adopt_frac = adopt.Fraction.values.reshape((7,n_hours))\n",
    "plt.figure(figsize=(15,22))\n",
    "plt.subplot(421)\n",
    "cmap = cm.get_cmap('Greens', 20) \n",
    "plt.imshow(adopt_frac, interpolation=\"nearest\", cmap=cmap)\n",
    "plt.grid(True)\n",
    "plt.yticks(range(len(adopt.WeekDay.unique())), days, rotation='horizontal')\n",
    "plt.xticks(range(len(hours)), hours, rotation='vertical')\n",
    "plt.colorbar(orientation=\"horizontal\",fraction=0.046, pad=0.1,label = \"Fraction of Cats Adopted\")\n",
    "plt.ylabel(\"Day\")\n",
    "plt.xlabel(\"Time\")\n",
    "\n",
    "adopt_count = adopt.InnerCount.values.reshape((7,n_hours))\n",
    "plt.subplot(422)\n",
    "cmap = cm.get_cmap('Greens', 20) \n",
    "plt.imshow(adopt_count, interpolation=\"nearest\", cmap=cmap)\n",
    "plt.grid(True)\n",
    "plt.yticks(range(len(adopt.WeekDay.unique())), days, rotation='horizontal')\n",
    "plt.xticks(range(len(hours)), hours, rotation='vertical')\n",
    "plt.colorbar(orientation=\"horizontal\",fraction=0.046, pad=0.1,label = \"Number of Cat Adoptions\")\n",
    "plt.tight_layout()\n",
    "plt.ylabel(\"Day\")\n",
    "plt.xlabel(\"Time\")\n",
    "\n",
    "euth_frac = euth.Fraction.values.reshape((7,n_hours))\n",
    "plt.subplot(423)\n",
    "cmap = cm.get_cmap('Reds', 20) \n",
    "plt.imshow(euth_frac, interpolation=\"nearest\", cmap=cmap)\n",
    "plt.grid(True)\n",
    "plt.yticks(range(len(adopt.WeekDay.unique())), days, rotation='horizontal')\n",
    "plt.xticks(range(len(hours)), hours, rotation='vertical')\n",
    "plt.colorbar(orientation=\"horizontal\",fraction=0.046, pad=0.1,label = \"Fraction of Cats Euthanised\")\n",
    "plt.ylabel(\"Day\")\n",
    "plt.xlabel(\"Time\")\n",
    "euth_count = euth.InnerCount.values.reshape((7,n_hours))\n",
    "plt.subplot(424)\n",
    "cmap = cm.get_cmap('Reds', 20) \n",
    "plt.imshow(euth_count, interpolation=\"nearest\", cmap=cmap)\n",
    "plt.grid(True)\n",
    "plt.yticks(range(len(adopt.WeekDay.unique())), days, rotation='horizontal')\n",
    "plt.xticks(range(len(hours)), hours, rotation='vertical')\n",
    "plt.colorbar(orientation=\"horizontal\",fraction=0.046, pad=0.1,label = \"Number of Cat Euthanisations\")\n",
    "plt.ylabel(\"Day\")\n",
    "plt.xlabel(\"Time\")\n",
    "\n",
    "\n",
    "tran_frac = transfer.Fraction.values.reshape((7,n_hours))\n",
    "plt.subplot(425)\n",
    "cmap = cm.get_cmap('Blues', 20) \n",
    "plt.imshow(tran_frac, interpolation=\"nearest\", cmap=cmap)\n",
    "plt.grid(True)\n",
    "plt.yticks(range(len(adopt.WeekDay.unique())), days, rotation='horizontal')\n",
    "plt.xticks(range(len(hours)), hours, rotation='vertical')\n",
    "plt.colorbar(orientation=\"horizontal\",fraction=0.046, pad=0.1,label = \"Fraction of Cats Transfered\")\n",
    "plt.ylabel(\"Day\")\n",
    "plt.xlabel(\"Time\")\n",
    "tran_count = transfer.InnerCount.values.reshape((7,n_hours))\n",
    "plt.subplot(426)\n",
    "cmap = cm.get_cmap('Blues', 20) \n",
    "plt.imshow(tran_count, interpolation=\"nearest\", cmap=cmap)\n",
    "plt.grid(True)\n",
    "plt.yticks(range(len(adopt.WeekDay.unique())), days, rotation='horizontal')\n",
    "plt.xticks(range(len(hours)), hours, rotation='vertical')\n",
    "plt.colorbar(orientation=\"horizontal\",fraction=0.046, pad=0.1,label = \"Number of Cat Transfers\")\n",
    "plt.ylabel(\"Day\")\n",
    "plt.xlabel(\"Time\")\n",
    "\n",
    "ret_frac = returned.Fraction.values.reshape((7,n_hours))\n",
    "plt.subplot(427)\n",
    "cmap = cm.get_cmap('Greens', 20) \n",
    "plt.imshow(ret_frac, interpolation=\"nearest\", cmap=cmap)\n",
    "plt.grid(True)\n",
    "plt.yticks(range(len(adopt.WeekDay.unique())), days, rotation='horizontal')\n",
    "plt.xticks(range(len(hours)), hours, rotation='vertical')\n",
    "plt.colorbar(orientation=\"horizontal\",fraction=0.046, pad=0.1,label = \"Fraction of Cats Returned\")\n",
    "plt.ylabel(\"Day\")\n",
    "plt.xlabel(\"Time\")\n",
    "ret_count = returned.InnerCount.values.reshape((7,n_hours))\n",
    "plt.subplot(428)\n",
    "cmap = cm.get_cmap('Greens', 20) \n",
    "plt.imshow(ret_count, interpolation=\"nearest\", cmap=cmap)\n",
    "plt.grid(True)\n",
    "plt.yticks(range(len(adopt.WeekDay.unique())), days, rotation='horizontal')\n",
    "plt.xticks(range(len(hours)), hours, rotation='vertical')\n",
    "plt.colorbar(orientation=\"horizontal\",fraction=0.046, pad=0.1,label = \"Number of Cats Returned\")\n",
    "plt.ylabel(\"Day\")\n",
    "plt.xlabel(\"Time\")\n",
    "\n",
    "plt.tight_layout()"
   ]
  },
  {
   "cell_type": "markdown",
   "metadata": {},
   "source": [
    "**People adopt cats primarily in the evenings. On the weekends, the daytime adoption rates increase, but the evening remains the busiest time. The busiest single hour of the week for cat adoptions is 5pm on Sundays**\n",
    "\n",
    "**Transfers seem to occur at 9am every morning, with additional smaller transfers occurring at 2pm on weekdays.**\n",
    "\n",
    "**Euthanasia occurs at all times, but there is a distinct pattern of euthanasias occurring in large numbers at 1pm on Mondays, at 3pm on Mondays and Tuesdays, at 11am on Tuesdays, and and at 1pm on Saturdays.**\n",
    "\n",
    "**Cats are returned to their owners primarily between 11am and 7pm.**"
   ]
  },
  {
   "cell_type": "code",
   "execution_count": null,
   "metadata": {
    "collapsed": false
   },
   "outputs": [],
   "source": [
    "hour_day_breakdown = groupCountFractionals(dogs,\"OutcomeType\",[\"Hour\",\"WeekDay\"])\n",
    "died = hour_day_breakdown[hour_day_breakdown.OutcomeType == \"Died\"].sort_values([\"WeekDay\",\"Hour\"])\n",
    "euth = hour_day_breakdown[hour_day_breakdown.OutcomeType == \"Euthanasia\"].sort_values([\"WeekDay\",\"Hour\"])\n",
    "transfer = hour_day_breakdown[hour_day_breakdown.OutcomeType == \"Transfer\"].sort_values([\"WeekDay\",\"Hour\"])\n",
    "returned = hour_day_breakdown[hour_day_breakdown.OutcomeType == \"Return_to_owner\"].sort_values([\"WeekDay\",\"Hour\"])\n",
    "adopt = hour_day_breakdown[hour_day_breakdown.OutcomeType == \"Adoption\"].sort_values([\"WeekDay\",\"Hour\"])\n",
    "\n",
    "n_hours = len(died.Hour.unique())\n",
    "\n",
    "hours = hour_day_breakdown.Hour.unique()\n",
    "days = [\"Monday\",\"Tuesday\",\"Wednesday\",\"Thursday\",\"Friday\",\"Saturday\",\"Sunday\"]\n",
    "\n",
    "adopt_frac = adopt.Fraction.values.reshape((7,n_hours))\n",
    "plt.figure(figsize=(15,22))\n",
    "plt.subplot(421)\n",
    "cmap = cm.get_cmap('Greens', 20) \n",
    "plt.imshow(adopt_frac, interpolation=\"nearest\", cmap=cmap)\n",
    "plt.grid(True)\n",
    "plt.yticks(range(len(adopt.WeekDay.unique())), days, rotation='horizontal')\n",
    "plt.xticks(range(len(hours)), hours, rotation='vertical')\n",
    "plt.colorbar(orientation=\"horizontal\",fraction=0.046, pad=0.1,label = \"Fraction of Dogs Adopted\")\n",
    "plt.ylabel(\"Day\")\n",
    "plt.xlabel(\"Time\")\n",
    "\n",
    "adopt_count = adopt.InnerCount.values.reshape((7,n_hours))\n",
    "plt.subplot(422)\n",
    "cmap = cm.get_cmap('Greens', 20) \n",
    "plt.imshow(adopt_count, interpolation=\"nearest\", cmap=cmap)\n",
    "plt.grid(True)\n",
    "plt.yticks(range(len(adopt.WeekDay.unique())), days, rotation='horizontal')\n",
    "plt.xticks(range(len(hours)), hours, rotation='vertical')\n",
    "plt.colorbar(orientation=\"horizontal\",fraction=0.046, pad=0.1,label = \"Number of Dog Adoptions\")\n",
    "plt.ylabel(\"Day\")\n",
    "plt.xlabel(\"Time\")\n",
    "\n",
    "euth_frac = euth.Fraction.values.reshape((7,n_hours))\n",
    "plt.subplot(423)\n",
    "cmap = cm.get_cmap('Reds', 20) \n",
    "plt.imshow(euth_frac, interpolation=\"nearest\", cmap=cmap)\n",
    "plt.grid(True)\n",
    "plt.yticks(range(len(adopt.WeekDay.unique())), days, rotation='horizontal')\n",
    "plt.xticks(range(len(hours)), hours, rotation='vertical')\n",
    "plt.colorbar(orientation=\"horizontal\",fraction=0.046, pad=0.1,label = \"Fraction of Dogs Euthanised\")\n",
    "plt.ylabel(\"Day\")\n",
    "plt.xlabel(\"Time\")\n",
    "euth_count = euth.InnerCount.values.reshape((7,n_hours))\n",
    "plt.subplot(424)\n",
    "cmap = cm.get_cmap('Reds', 20) \n",
    "plt.imshow(euth_count, interpolation=\"nearest\", cmap=cmap)\n",
    "plt.grid(True)\n",
    "plt.yticks(range(len(adopt.WeekDay.unique())), days, rotation='horizontal')\n",
    "plt.xticks(range(len(hours)), hours, rotation='vertical')\n",
    "plt.colorbar(orientation=\"horizontal\",fraction=0.046, pad=0.1,label = \"Number of Dog Euthanisations\")\n",
    "plt.ylabel(\"Day\")\n",
    "plt.xlabel(\"Time\")\n",
    "\n",
    "\n",
    "tran_frac = transfer.Fraction.values.reshape((7,n_hours))\n",
    "plt.subplot(425)\n",
    "cmap = cm.get_cmap('Blues', 20) \n",
    "plt.imshow(tran_frac, interpolation=\"nearest\", cmap=cmap)\n",
    "plt.grid(True)\n",
    "plt.yticks(range(len(adopt.WeekDay.unique())), days, rotation='horizontal')\n",
    "plt.xticks(range(len(hours)), hours, rotation='vertical')\n",
    "plt.colorbar(orientation=\"horizontal\",fraction=0.046, pad=0.1,label = \"Fraction of Dogs Transfered\")\n",
    "plt.ylabel(\"Day\")\n",
    "plt.xlabel(\"Time\")\n",
    "tran_count = transfer.InnerCount.values.reshape((7,n_hours))\n",
    "plt.subplot(426)\n",
    "cmap = cm.get_cmap('Blues', 20) \n",
    "plt.imshow(tran_count, interpolation=\"nearest\", cmap=cmap)\n",
    "plt.grid(True)\n",
    "plt.yticks(range(len(adopt.WeekDay.unique())), days, rotation='horizontal')\n",
    "plt.xticks(range(len(hours)), hours, rotation='vertical')\n",
    "plt.colorbar(orientation=\"horizontal\",fraction=0.046, pad=0.1,label = \"Number of Dog Transfers\")\n",
    "plt.ylabel(\"Day\")\n",
    "plt.xlabel(\"Time\")\n",
    "\n",
    "ret_frac = returned.Fraction.values.reshape((7,n_hours))\n",
    "plt.subplot(427)\n",
    "cmap = cm.get_cmap('Greens', 20) \n",
    "plt.imshow(tran_frac, interpolation=\"nearest\", cmap=cmap)\n",
    "plt.grid(True)\n",
    "plt.yticks(range(len(adopt.WeekDay.unique())), days, rotation='horizontal')\n",
    "plt.xticks(range(len(hours)), hours, rotation='vertical')\n",
    "plt.colorbar(orientation=\"horizontal\",fraction=0.046, pad=0.1,label = \"Fraction of Dogs Returned\")\n",
    "plt.ylabel(\"Day\")\n",
    "plt.xlabel(\"Time\")\n",
    "ret_count = returned.InnerCount.values.reshape((7,n_hours))\n",
    "plt.subplot(428)\n",
    "cmap = cm.get_cmap('Greens', 20) \n",
    "plt.imshow(tran_count, interpolation=\"nearest\", cmap=cmap)\n",
    "plt.grid(True)\n",
    "plt.yticks(range(len(adopt.WeekDay.unique())), days, rotation='horizontal')\n",
    "plt.xticks(range(len(hours)), hours, rotation='vertical')\n",
    "plt.colorbar(orientation=\"horizontal\",fraction=0.046, pad=0.1,label = \"Number of Dogs Returned\")\n",
    "plt.ylabel(\"Day\")\n",
    "plt.xlabel(\"Time\")\n",
    "\n",
    "plt.tight_layout()"
   ]
  },
  {
   "cell_type": "markdown",
   "metadata": {},
   "source": [
    "**Dog adoption times and days follow the same pattern as for cats. Transfers do not appear to occur at a particular time. There are patterns of elevated return and transfer rates at 0 hours, with consistency across days between the two rates - I'm guessing this is due to the time not being entered for these cases.\n",
    "There is a significantly elevated euthanasia rate first thing Monday morning, and another at 9am on Sunday morning.**"
   ]
  },
  {
   "cell_type": "markdown",
   "metadata": {},
   "source": [
    "## Age"
   ]
  },
  {
   "cell_type": "code",
   "execution_count": null,
   "metadata": {
    "collapsed": false
   },
   "outputs": [],
   "source": [
    "dog_age_outcomes = groupCountFractionals(dogs,\"OutcomeType\",[\"Age\"])\n",
    "dog_age_adoption = dog_age_outcomes[dog_age_outcomes.OutcomeType == \"Adoption\"]\n",
    "dog_age_euthanasia = dog_age_outcomes[dog_age_outcomes.OutcomeType == \"Euthanasia\"]\n",
    "dog_age_return = dog_age_outcomes[dog_age_outcomes.OutcomeType == \"Return_to_owner\"]\n",
    "dog_age_deaths = dog_age_outcomes[dog_age_outcomes.OutcomeType == \"Died\"]\n",
    "dog_age_transfer = dog_age_outcomes[dog_age_outcomes.OutcomeType == \"Transfer\"]\n",
    "\n",
    "cat_age_outcomes = groupCountFractionals(cats,\"OutcomeType\",[\"Age\"])\n",
    "cat_age_adoption = cat_age_outcomes[cat_age_outcomes.OutcomeType == \"Adoption\"]\n",
    "cat_age_euthanasia = cat_age_outcomes[cat_age_outcomes.OutcomeType == \"Euthanasia\"]\n",
    "cat_age_return = cat_age_outcomes[cat_age_outcomes.OutcomeType == \"Return_to_owner\"]\n",
    "cat_age_deaths = cat_age_outcomes[cat_age_outcomes.OutcomeType == \"Died\"]\n",
    "cat_age_transfer = cat_age_outcomes[cat_age_outcomes.OutcomeType == \"Transfer\"]\n",
    "\n",
    "\n",
    "\n",
    "plt.figure(figsize=(16,16))\n",
    "\n",
    "plt.subplot(321)\n",
    "plt.scatter(dog_age_adoption.Age,dog_age_adoption.OuterCount,label=\"Dogs\",c=\"\")\n",
    "plt.scatter(cat_age_adoption.Age,cat_age_adoption.OuterCount,label=\"Cats\",c='k')\n",
    "plt.xlim(-50,3500)\n",
    "plt.ylim(-50,4000)\n",
    "plt.xlabel(\"Age in Days\")\n",
    "plt.ylabel(\"Number of Events\")\n",
    "plt.legend()\n",
    "\n",
    "plt.subplot(322)\n",
    "plt.scatter(dog_age_adoption.Age,dog_age_adoption.Fraction,label=\"Dogs\",c=\"\")\n",
    "plt.scatter(cat_age_adoption.Age,cat_age_adoption.Fraction,label=\"Cats\",c='k')\n",
    "plt.xlim(-50,3500)\n",
    "plt.ylim(-0.05,1)\n",
    "plt.xlabel(\"Age in Days\")\n",
    "plt.ylabel(\"Fraction Adopted\")\n",
    "plt.legend()\n",
    "\n",
    "plt.subplot(323)\n",
    "plt.scatter(dog_age_adoption.Age,dog_age_return.Fraction,label=\"Dogs\",c=\"\")\n",
    "plt.scatter(cat_age_adoption.Age,cat_age_return.Fraction,label=\"Cats\",c='k')\n",
    "plt.xlim(-50,3500)\n",
    "plt.ylim(-0.05,0.6)\n",
    "plt.xlabel(\"Age in Days\")\n",
    "plt.ylabel(\"Fraction Returned to Owners\")\n",
    "plt.legend()\n",
    "\n",
    "plt.subplot(324)\n",
    "plt.scatter(dog_age_adoption.Age,dog_age_transfer.Fraction,label=\"Dogs\",c=\"\")\n",
    "plt.scatter(cat_age_adoption.Age,cat_age_transfer.Fraction,label=\"Cats\",c='k')\n",
    "plt.xlim(-50,3500)\n",
    "plt.ylim(-0.05,1)\n",
    "plt.xlabel(\"Age in Days\")\n",
    "plt.ylabel(\"Fraction Transferred\")\n",
    "plt.legend()\n",
    "\n",
    "plt.subplot(325)\n",
    "plt.scatter(dog_age_adoption.Age,dog_age_euthanasia.Fraction,label=\"Dogs\",c=\"\")\n",
    "plt.scatter(cat_age_adoption.Age,cat_age_euthanasia.Fraction,label=\"Cats\",c='k')\n",
    "plt.xlim(-50,3500)\n",
    "plt.ylim(-0.05,0.3)\n",
    "plt.xlabel(\"Age in Days\")\n",
    "plt.ylabel(\"Fraction Euthanised\")\n",
    "plt.legend()\n",
    "\n",
    "plt.subplot(326)\n",
    "plt.scatter(dog_age_adoption.Age,dog_age_deaths.Fraction,label=\"Dogs\",c=\"\")\n",
    "plt.scatter(cat_age_adoption.Age,cat_age_deaths.Fraction,label=\"Cats\",c='k')\n",
    "plt.xlim(-50,3500)\n",
    "plt.ylim(-0.05,0.3)\n",
    "plt.xlabel(\"Age in Days\")\n",
    "plt.ylabel(\"Fraction Died\")\n",
    "plt.legend()\n",
    "\n",
    "\n",
    "plt.tight_layout()"
   ]
  },
  {
   "cell_type": "markdown",
   "metadata": {},
   "source": [
    "**There is an overrepresentation of animals of age 0 being returned to their owners or transferred. This is most likely due to their leaving the shelter before an age could be entered into the system.\n",
    "For both cats and dogs, animals in the puppy/kitten age group seem to be most popular for adoption.\n",
    "**"
   ]
  },
  {
   "cell_type": "markdown",
   "metadata": {},
   "source": [
    "## Names"
   ]
  },
  {
   "cell_type": "markdown",
   "metadata": {},
   "source": [
    "**I think that for those animals that are named, the name they are given reflects what people think of them. Their name can therefore be used to predict their outcome, providing that there are enough animals with a particular name.**"
   ]
  },
  {
   "cell_type": "code",
   "execution_count": null,
   "metadata": {
    "collapsed": false
   },
   "outputs": [],
   "source": [
    "named_cats = cats[cats.Named==1]\n",
    "print(len(named_cats),\" Named Cats\",len(cats), \"Total Cats\")\n",
    "print(len(named_cats)/len(cats) * 100, \"% of cats named\")\n",
    "named_dogs = dogs[dogs.Named==1]\n",
    "print(len(named_dogs), \" Named Dogs\",len(dogs), \"Total Dogs\")\n",
    "print(len(named_dogs)/len(dogs) * 100, \"% of dogs named\")"
   ]
  },
  {
   "cell_type": "markdown",
   "metadata": {},
   "source": [
    "** Names will probably be more informative for dogs than for cats, purely due to the difference in sample size. **"
   ]
  },
  {
   "cell_type": "markdown",
   "metadata": {},
   "source": [
    "# Cat Names"
   ]
  },
  {
   "cell_type": "code",
   "execution_count": null,
   "metadata": {
    "collapsed": false
   },
   "outputs": [],
   "source": [
    "cat_train_name_ = groupCountFractionals(named_cats,\"OutcomeType\",[\"Name\"])\n",
    "cat_name_euth = cat_train_name_[cat_train_name_.OutcomeType == \"Euthanasia\"]\n",
    "cat_name_adopt = cat_train_name_[cat_train_name_.OutcomeType == \"Adoption\"]\n",
    "cat_name_return = cat_train_name_[cat_train_name_.OutcomeType == \"Return_to_owner\"]\n",
    "cat_name_transfer = cat_train_name_[cat_train_name_.OutcomeType == \"Transfer\"]\n",
    "cat_name_died = cat_train_name_[cat_train_name_.OutcomeType == \"Died\"]"
   ]
  },
  {
   "cell_type": "code",
   "execution_count": null,
   "metadata": {
    "collapsed": false
   },
   "outputs": [],
   "source": [
    "plt.figure(figsize=(12,16))\n",
    "\n",
    "plt.subplot(321)\n",
    "plt.scatter(cat_name_euth.OuterCount,cat_name_euth.Fraction)\n",
    "plt.axhline(np.mean(cat_name_euth.Fraction),c='r',label=\"Mean Namewise Euthanasia Rate\")\n",
    "plt.xlabel(\"Number of Cats with Name\")\n",
    "plt.ylabel(\"Fraction of Cats with Name Euthanised\")\n",
    "plt.xlim(0,27)\n",
    "plt.ylim(-0.05,1.05)\n",
    "plt.legend()\n",
    "\n",
    "plt.subplot(322)\n",
    "plt.scatter(cat_name_adopt.OuterCount,cat_name_adopt.Fraction)\n",
    "plt.xlabel(\"Number of Cats with Name\")\n",
    "plt.ylabel(\"Fraction of Cats with Name Adopted\")\n",
    "plt.axhline(np.mean(cat_name_adopt.Fraction),c='r',label=\"Mean Namewise Adoption Rate\")\n",
    "plt.xlim(0,27)\n",
    "plt.ylim(-0.05,1.05)\n",
    "plt.legend()\n",
    "\n",
    "plt.subplot(323)\n",
    "plt.scatter(cat_name_return.OuterCount,cat_name_return.Fraction)\n",
    "plt.xlabel(\"Number of Cats with Name\")\n",
    "plt.ylabel(\"Fraction of Cats with Name Returned to Owners\")\n",
    "plt.xlim(0,27)\n",
    "plt.ylim(-0.05,1.05)\n",
    "plt.axhline(np.mean(cat_name_return.Fraction),c='r',label=\"Mean Namewise Return Rate\")\n",
    "plt.legend()\n",
    "\n",
    "plt.subplot(324)\n",
    "plt.scatter(cat_name_transfer.OuterCount,cat_name_transfer.Fraction)\n",
    "plt.xlabel(\"Number of Cats with Name\")\n",
    "plt.ylabel(\"Fraction of Cats with Name Transferred\")\n",
    "plt.xlim(0,27)\n",
    "plt.ylim(-0.05,1.05)\n",
    "plt.axhline(np.mean(cat_name_transfer.Fraction),c='r',label=\"Mean Namewise Transfer Rate\")\n",
    "plt.legend()\n",
    "\n",
    "plt.subplot(325)\n",
    "plt.scatter(cat_name_died.OuterCount,cat_name_died.Fraction)\n",
    "plt.xlabel(\"Number of Cats with Name\")\n",
    "plt.ylabel(\"Fraction of Cats with Name that Died\")\n",
    "plt.xlim(0,27)\n",
    "plt.ylim(-0.05,1.05)\n",
    "plt.axhline(np.mean(cat_name_died.Fraction),c='r',label=\"Mean Namewise Death Rate\")\n",
    "plt.legend()\n",
    "\n",
    "\n",
    "plt.subplot(326)\n",
    "plt.hist(cat_name_adopt.OuterCount)\n",
    "plt.ylabel(\"Number of names with count\")\n",
    "plt.xlabel(\"Number of cats with name\")"
   ]
  },
  {
   "cell_type": "code",
   "execution_count": null,
   "metadata": {
    "collapsed": false
   },
   "outputs": [],
   "source": [
    "cat_name_sig_groups = cat_name_adopt[cat_name_adopt.OuterCount > 15].sort_values(\"Fraction\")\n",
    "cat_name_sig_groups[\"NotAdopted\"] = cat_name_sig_groups.OuterCount - cat_name_sig_groups.InnerCount\n",
    "\n",
    "chi2, p, ddof, expected = chi2_contingency(cat_name_sig_groups[[\"InnerCount\",\"NotAdopted\"]].values,correction=True)\n",
    "output_template = \"Chi-Squared Statistic: {}, DegreesOfFreedom: {}, p-value: {}\"\n",
    "print(output_template.format(chi2,ddof,p))"
   ]
  },
  {
   "cell_type": "markdown",
   "metadata": {},
   "source": [
    "**Cat names do seem to have an effect on adoption rates, but the sample size is not large enough to say which names are biased towards particular outcomes.**"
   ]
  },
  {
   "cell_type": "markdown",
   "metadata": {},
   "source": [
    "## Dog Names"
   ]
  },
  {
   "cell_type": "code",
   "execution_count": null,
   "metadata": {
    "collapsed": false
   },
   "outputs": [],
   "source": [
    "dog_train_name_ = groupCountFractionals(named_dogs,\"OutcomeType\",[\"Name\"])\n",
    "dog_name_euth = dog_train_name_[dog_train_name_.OutcomeType == \"Euthanasia\"]\n",
    "dog_name_adopt = dog_train_name_[dog_train_name_.OutcomeType == \"Adoption\"]\n",
    "dog_name_return = dog_train_name_[dog_train_name_.OutcomeType == \"Return_to_owner\"]\n",
    "dog_name_transfer = dog_train_name_[dog_train_name_.OutcomeType == \"Transfer\"]\n",
    "dog_name_died = dog_train_name_[dog_train_name_.OutcomeType == \"Died\"]\n",
    "\n",
    "plt.figure(figsize=(12,16))\n",
    "\n",
    "plt.subplot(321)\n",
    "plt.scatter(dog_name_euth.OuterCount,dog_name_euth.Fraction)\n",
    "plt.axhline(np.mean(dog_name_euth.Fraction),c='r',label=\"Mean Namewise Euthanasia Rate\")\n",
    "plt.xlabel(\"Number of Dogs with Name\")\n",
    "plt.ylabel(\"Fraction of Dogs with Name Euthanised\")\n",
    "plt.xlim(0,27)\n",
    "plt.ylim(-0.05,1.05)\n",
    "plt.legend()\n",
    "plt.subplot(322)\n",
    "plt.scatter(dog_name_adopt.OuterCount,dog_name_adopt.Fraction)\n",
    "plt.axhline(np.mean(dog_name_adopt.Fraction),c='r',label=\"Mean Namewise Adoption Rate\")\n",
    "plt.xlabel(\"Number of Dogs with Name\")\n",
    "plt.ylabel(\"Fraction of Dogs with Name Adopted\")\n",
    "plt.xlim(0,27)\n",
    "plt.ylim(-0.05,1.05)\n",
    "plt.legend()\n",
    "plt.subplot(323)\n",
    "plt.scatter(dog_name_return.OuterCount,dog_name_return.Fraction)\n",
    "plt.axhline(np.mean(dog_name_return.Fraction),c='r',label=\"Mean Namewise Return Rate\")\n",
    "plt.xlabel(\"Number of Dogs with Name\")\n",
    "plt.ylabel(\"Fraction of Dogs with Name Returned to Owners\")\n",
    "plt.xlim(0,27)\n",
    "plt.ylim(-0.05,1.05)\n",
    "plt.legend()\n",
    "plt.subplot(324)\n",
    "plt.scatter(dog_name_transfer.OuterCount,dog_name_transfer.Fraction)\n",
    "plt.axhline(np.mean(dog_name_transfer.Fraction),c='r',label=\"Mean Namewise Transfer Rate\")\n",
    "plt.xlabel(\"Number of Dogs with Name\")\n",
    "plt.ylabel(\"Fraction of Dogs with Name Transferred\")\n",
    "plt.xlim(0,27)\n",
    "plt.ylim(-0.05,1.05)\n",
    "plt.legend()\n",
    "plt.subplot(325)\n",
    "plt.scatter(dog_name_died.OuterCount,dog_name_died.Fraction)\n",
    "plt.axhline(np.mean(dog_name_died.Fraction),c='r',label=\"Mean Namewise Death Rate\")\n",
    "plt.xlabel(\"Number of Dogs with Name\")\n",
    "plt.ylabel(\"Fraction of Dogs with Name that Died\")\n",
    "plt.xlim(0,27)\n",
    "plt.ylim(-0.05,1.05)\n",
    "plt.legend()\n",
    "plt.subplot(326)\n",
    "plt.hist(dog_name_adopt.OuterCount)\n",
    "plt.ylabel(\"Number of names with count\")\n",
    "plt.xlabel(\"Number of dogs with name\")"
   ]
  },
  {
   "cell_type": "code",
   "execution_count": null,
   "metadata": {
    "collapsed": false
   },
   "outputs": [],
   "source": [
    "dog_name_sig_groups = dog_name_adopt[dog_name_adopt.OuterCount > 15].sort_values(\"Fraction\")\n",
    "dog_name_sig_groups[\"NotAdopted\"] = dog_name_sig_groups.OuterCount - dog_name_sig_groups.InnerCount"
   ]
  },
  {
   "cell_type": "code",
   "execution_count": null,
   "metadata": {
    "collapsed": false,
    "scrolled": false
   },
   "outputs": [],
   "source": [
    "plt.figure(figsize=(18,18))\n",
    "\n",
    "plt.scatter(dog_name_sig_groups.OuterCount,dog_name_sig_groups.Fraction)\n",
    "plt.axhline(np.mean(dog_name_adopt.Fraction),c='r',label = \"Mean Adoption Rate\")\n",
    "for label,x,y in zip(dog_name_sig_groups.Name,dog_name_sig_groups.OuterCount,dog_name_sig_groups.Fraction):\n",
    "    plt.annotate(label,xy=(x,y),textcoords = 'offset points',xytext = (0.5, 0),rotation=45)\n",
    "plt.xlabel(\"Number of Dogs with Name\")\n",
    "plt.ylabel(\"Fraction of Dogs with Name Adopted\")\n",
    "plt.legend()"
   ]
  },
  {
   "cell_type": "code",
   "execution_count": null,
   "metadata": {
    "collapsed": false
   },
   "outputs": [],
   "source": [
    "chi2, p, ddof, expected = chi2_contingency(dog_name_sig_groups[[\"InnerCount\",\"NotAdopted\"]].values,correction=True)\n",
    "output_template = \"Chi-Squared Statistic: {}, DegreesOfFreedom: {}, p-value: {}\"\n",
    "print(output_template.format(chi2,ddof,p))"
   ]
  },
  {
   "cell_type": "markdown",
   "metadata": {},
   "source": [
    "**Dog names do have a significant effect on adoption rates**"
   ]
  },
  {
   "cell_type": "code",
   "execution_count": null,
   "metadata": {
    "collapsed": false,
    "scrolled": true
   },
   "outputs": [],
   "source": [
    "#Sanity check - Dog names should not significantly influence deaths.\n",
    "dog_name_sig_groups = dog_name_died[dog_name_died.OuterCount > 15].sort_values(\"Fraction\")\n",
    "dog_name_sig_groups[\"DidNotDie\"] = dog_name_sig_groups.OuterCount - dog_name_sig_groups.InnerCount\n",
    "\n",
    "chi2, p, ddof, expected = chi2_contingency(dog_name_sig_groups[[\"InnerCount\",\"DidNotDie\"]].values,correction=True)\n",
    "output_template = \"Chi-Squared Statistic: {}, DegreesOfFreedom: {}, p-value: {}\"\n",
    "print(output_template.format(chi2,ddof,p))\n"
   ]
  },
  {
   "cell_type": "markdown",
   "metadata": {},
   "source": [
    "\n",
    "\n",
    "## Cat Breeds"
   ]
  },
  {
   "cell_type": "code",
   "execution_count": null,
   "metadata": {
    "collapsed": false
   },
   "outputs": [],
   "source": [
    "breeds = cats.Breed.unique()\n",
    "len(breeds)"
   ]
  },
  {
   "cell_type": "code",
   "execution_count": null,
   "metadata": {
    "collapsed": false
   },
   "outputs": [],
   "source": [
    "def splitBreed(breed):\n",
    "    if \"Mix\" in breed:\n",
    "        component_a = breed[:-4]\n",
    "        component_b = \"Unknown\"\n",
    "    elif \"/\" in breed:\n",
    "        components = breed.split(\"/\")\n",
    "        component_a = components[0]\n",
    "        component_b = components[1]\n",
    "    else:\n",
    "        component_a = breed\n",
    "        component_b = breed\n",
    "    return [component_a,component_b]\n",
    "\n",
    "cats[\"breed_components\"] = cats.Breed.apply(splitBreed)\n",
    "cats[\"BreedComponentA\"] = cats.breed_components.apply(lambda x:x[0])\n",
    "cats[\"BreedComponentB\"] = cats.breed_components.apply(lambda x:x[1])\n"
   ]
  },
  {
   "cell_type": "code",
   "execution_count": null,
   "metadata": {
    "collapsed": false,
    "scrolled": false
   },
   "outputs": [],
   "source": [
    "breed_outcomes = groupCountFractionals(cats,\"OutcomeType\",[\"BreedComponentA\",\"BreedComponentB\"])\n",
    "counts = breed_outcomes.OuterCount\n",
    "plt.hist(counts,bins=100)\n",
    "plt.yscale(\"log\")\n",
    "plt.xlabel(\"Number of Cats of Breed (log scale)\")\n",
    "plt.ylabel(\"Number of Breeds\")\n",
    "adoptions = breed_outcomes[breed_outcomes.OutcomeType == \"Adoption\"]"
   ]
  },
  {
   "cell_type": "markdown",
   "metadata": {
    "collapsed": true
   },
   "source": [
    "**The more common breeds of cats outnumber the rarer ones by more than 1000-fold.**"
   ]
  },
  {
   "cell_type": "code",
   "execution_count": null,
   "metadata": {
    "collapsed": false
   },
   "outputs": [],
   "source": [
    "len(adoptions.BreedComponentA.unique()),len(adoptions.BreedComponentB.unique())"
   ]
  },
  {
   "cell_type": "code",
   "execution_count": null,
   "metadata": {
    "collapsed": false
   },
   "outputs": [],
   "source": [
    "adoptions = breed_outcomes[breed_outcomes.OutcomeType == \"Adoption\"]\n",
    "adoptions = adoptions.sort_values([\"BreedComponentA\",\"BreedComponentB\"],ascending=False)\n",
    "adoption_array = adoptions.Fraction.values.reshape(33,19)\n",
    "\n",
    "breed_count_array = adoptions.OuterCount.values.reshape(33,19)\n",
    "a_components = adoptions.BreedComponentA.unique()\n",
    "b_components = adoptions.BreedComponentB.unique()\n",
    "\n",
    "returns = breed_outcomes[breed_outcomes.OutcomeType == \"Return_to_owner\"]\n",
    "returns = returns.sort_values([\"BreedComponentA\",\"BreedComponentB\"],ascending=False)\n",
    "return_array = returns.Fraction.values.reshape(33,19)\n",
    "\n",
    "euths = breed_outcomes[breed_outcomes.OutcomeType == \"Euthanasia\"]\n",
    "euths = returns.sort_values([\"BreedComponentA\",\"BreedComponentB\"],ascending=False)\n",
    "euth_array = returns.Fraction.values.reshape(33,19)"
   ]
  },
  {
   "cell_type": "code",
   "execution_count": null,
   "metadata": {
    "collapsed": false
   },
   "outputs": [],
   "source": [
    "plt.figure(figsize=(12,12))\n",
    "plt.subplot(221)\n",
    "cmap = cm.get_cmap('Oranges', 50)\n",
    "plt.imshow(breed_count_array, interpolation=\"nearest\",cmap=cmap)\n",
    "plt.xticks(range(len(b_components)), b_components, rotation='vertical')\n",
    "plt.yticks(range(len(a_components)), a_components, rotation='horizontal')\n",
    "plt.colorbar(fraction=0.046, pad=0.04,label = \"Number of Events\")\n",
    "\n",
    "plt.subplot(222)\n",
    "cmap = cm.get_cmap('Greens', 20)\n",
    "plt.imshow(adoption_array, interpolation=\"nearest\",cmap=cmap)\n",
    "plt.xticks(range(len(b_components)), b_components, rotation='vertical')\n",
    "plt.yticks(range(len(a_components)), a_components, rotation='horizontal')\n",
    "plt.colorbar(fraction=0.046, pad=0.04,label = \"Fraction Adopted\")\n",
    "\n",
    "plt.subplot(223)\n",
    "cmap = cm.get_cmap('Blues', 20)\n",
    "plt.imshow(return_array, interpolation=\"nearest\",cmap=cmap)\n",
    "plt.xticks(range(len(b_components)), b_components, rotation='vertical')\n",
    "plt.yticks(range(len(a_components)), a_components, rotation='horizontal')\n",
    "plt.colorbar(fraction=0.046, pad=0.04,label = \"Fraction Returned to Owners\")\n",
    "\n",
    "plt.subplot(224)\n",
    "cmap = cm.get_cmap('Reds', 20)\n",
    "plt.imshow(euth_array, interpolation=\"nearest\",cmap=cmap)\n",
    "plt.xticks(range(len(b_components)), b_components, rotation='vertical')\n",
    "plt.yticks(range(len(a_components)), a_components, rotation='horizontal')\n",
    "plt.colorbar(fraction=0.046, pad=0.04,label = \"Fraction Euthanised\")\n",
    "\n",
    "plt.tight_layout()"
   ]
  },
  {
   "cell_type": "markdown",
   "metadata": {},
   "source": [
    "**These data suggest that breed does play a role in determining outcomes for cats, but the majority of cats are mixed breeds, meaning that it might be more informative to condition on just a single breed component.**"
   ]
  },
  {
   "cell_type": "code",
   "execution_count": null,
   "metadata": {
    "collapsed": false
   },
   "outputs": [],
   "source": [
    "cat_componentA = groupCountFractionals(cats,\"OutcomeType\",[\"BreedComponentA\"])\n",
    "adoption = cat_componentA[cat_componentA.OutcomeType == \"Adoption\"]\n",
    "returns = cat_componentA[cat_componentA.OutcomeType == \"Return_to_owner\"]\n",
    "euthanasia = cat_componentA[cat_componentA.OutcomeType == \"Euthanasia\"]"
   ]
  },
  {
   "cell_type": "code",
   "execution_count": null,
   "metadata": {
    "collapsed": false
   },
   "outputs": [],
   "source": [
    "plt.figure(figsize=(12,12))\n",
    "plt.subplot(311)\n",
    "plt.hist(adoption.Fraction,bins=30)\n",
    "plt.ylabel(\"Number of Breeds\")\n",
    "plt.xlabel(\"Breed-wise adoption rate\")\n",
    "\n",
    "plt.subplot(312)\n",
    "plt.hist(returns.Fraction,bins=30)\n",
    "plt.ylabel(\"Number of Breeds\")\n",
    "plt.xlabel(\"Breed-wise return rate\")\n",
    "\n",
    "plt.subplot(313)\n",
    "plt.hist(euthanasia.Fraction,bins=30)\n",
    "plt.ylabel(\"Number of Breeds\")\n",
    "plt.xlabel(\"Breed-wise euthanasia rate\")"
   ]
  },
  {
   "cell_type": "code",
   "execution_count": null,
   "metadata": {
    "collapsed": false
   },
   "outputs": [],
   "source": [
    "cats[\"CommonBreed\"] = [1 if x == \"Domestic Shorthair\" else 0 for x in cats.BreedComponentA]"
   ]
  },
  {
   "cell_type": "code",
   "execution_count": null,
   "metadata": {
    "collapsed": false
   },
   "outputs": [],
   "source": [
    "groupCountFractionals(cats,\"OutcomeType\",[\"CommonBreed\"])"
   ]
  },
  {
   "cell_type": "code",
   "execution_count": null,
   "metadata": {
    "collapsed": false
   },
   "outputs": [],
   "source": [
    "gc = groupCountFractionals(cats,\"OutcomeType\",[\"CommonBreed\"])\n",
    "gc_a = gc[gc.OutcomeType == \"Adoption\"]\n",
    "gc_r = gc[gc.OutcomeType == \"Return_to_owner\"]"
   ]
  },
  {
   "cell_type": "code",
   "execution_count": null,
   "metadata": {
    "collapsed": false
   },
   "outputs": [],
   "source": [
    "gc_a"
   ]
  },
  {
   "cell_type": "code",
   "execution_count": null,
   "metadata": {
    "collapsed": true
   },
   "outputs": [],
   "source": [
    "from scipy.stats import chi2_contingency"
   ]
  },
  {
   "cell_type": "code",
   "execution_count": null,
   "metadata": {
    "collapsed": false
   },
   "outputs": [],
   "source": [
    "chi2, p, ddof, expected = chi2_contingency(np.array([[944,2176-944],[3328,8958-3328]]),correction=True)\n",
    "output_template = \"Chi-Squared Statistic: {}, DegreesOfFreedom: {}, p-value: {}\"\n",
    "print(output_template.format(chi2,ddof,p))"
   ]
  },
  {
   "cell_type": "code",
   "execution_count": null,
   "metadata": {
    "collapsed": false
   },
   "outputs": [],
   "source": [
    "gc_r"
   ]
  },
  {
   "cell_type": "code",
   "execution_count": null,
   "metadata": {
    "collapsed": false,
    "scrolled": true
   },
   "outputs": [],
   "source": [
    "chi2, p, ddof, expected = chi2_contingency(np.array([[136,2176-136],[364,8958-364]]),correction=True)\n",
    "output_template = \"Chi-Squared Statistic: {}, DegreesOfFreedom: {}, p-value: {}\"\n",
    "print(output_template.format(chi2,ddof,p))"
   ]
  },
  {
   "cell_type": "markdown",
   "metadata": {},
   "source": [
    "**Cat breeds do have an effect on outcome, with Domestic Shorthairs being significantly less likely to be adopted or returned to an owner than other breed types.**"
   ]
  },
  {
   "cell_type": "markdown",
   "metadata": {},
   "source": [
    "# Dog Breeds\n",
    "\n",
    "**There are too many dog breeds to process them directly. Fortunately, there is a wikipedia page that lists dog breeds and their kennel club classifications.**"
   ]
  },
  {
   "cell_type": "code",
   "execution_count": null,
   "metadata": {
    "collapsed": false
   },
   "outputs": [],
   "source": [
    "wiki_url = \"https://en.wikipedia.org/wiki/List_of_dog_breeds\"\n",
    "q = Request(wiki_url)\n",
    "q.add_header('User-Agent', 'Mozilla/5.0')\n",
    "req = urlopen(q)\n",
    "soup = BeautifulSoup(req,\"lxml\")\n",
    "table = soup.find(\"table\", { \"class\" : \"wikitable sortable\" })\n",
    "breed = []\n",
    "fci = []\n",
    "akc = []\n",
    "ankc = []\n",
    "ckc = []\n",
    "tkc =[]\n",
    "nzkc = []\n",
    "ukc = []\n",
    "for row in table.findAll(\"tr\"):\n",
    "    cells = row.findAll(\"td\")\n",
    "    #For each \"tr\", assign each \"td\" to a variable.\n",
    "    if len(cells) == 10:\n",
    "        breed.append(cells[0].find(text=True))\n",
    "        fci.append(cells[2].find(text=True))\n",
    "        akc.append(cells[3].find(text=True))\n",
    "        ankc.append(cells[4].find(text=True))\n",
    "        ckc.append(cells[5].find(text=True))\n",
    "        tkc.append(cells[6].find(text=True))\n",
    "        nzkc.append(cells[7].find(text=True))\n",
    "        ukc.append(cells[8].find(text=True))\n",
    "kennel_classifications = pandas.DataFrame({\n",
    "    \"Breed\":breed,\n",
    "    \"FCI\":fci,\n",
    "    \"AKC\":akc,\n",
    "    \"ANKC\":ankc,\n",
    "    \"CKC\":ckc,\n",
    "    \"TKC\":tkc,\n",
    "    \"NZKC\":nzkc,\n",
    "    \"UKC\":ukc\n",
    "})\n",
    "\n",
    "FCI_types = kennel_classifications.FCI\n",
    "fci_groups = FCI_types.str.extract(\"(Group.[0-9]+)\")\n",
    "fci_groups_sections = FCI_types.str.extract(\"(Group.[0-9]+.Section.[0-9]+)\")\n",
    "kennel_classifications[\"FCI_Group\"] = fci_groups\n",
    "kennel_classifications[\"FCI_Section\"] = fci_groups_sections\n",
    "\n",
    "distinct_fci_groups = fci_groups.dropna().unique()\n",
    "distinct_fci_sections = fci_groups_sections.dropna().unique()\n",
    "\n",
    "kennel_classifications = kennel_classifications.fillna(\"Unknown\")\n"
   ]
  },
  {
   "cell_type": "code",
   "execution_count": null,
   "metadata": {
    "collapsed": false,
    "scrolled": false
   },
   "outputs": [],
   "source": [
    "kennel_classifications.UKC.unique()"
   ]
  },
  {
   "cell_type": "code",
   "execution_count": null,
   "metadata": {
    "collapsed": false
   },
   "outputs": [],
   "source": [
    "kennel_classifications.loc[kennel_classifications.UKC == \"Guardian\",\"UKC\"] = \"Guardian Dog\"\n",
    "kennel_classifications.loc[kennel_classifications.UKC == \"Guarding Dog\",\"UKC\"] = \"Guard\"\n",
    "kennel_classifications.loc[kennel_classifications.UKC == \"Terriers\",\"UKC\"] = \"Terrier\"\n",
    "kennel_classifications.loc[kennel_classifications.UKC == \"Not recognised\",\"UKC\"] = \"Unknown\"\n",
    "kennel_classifications.loc[kennel_classifications.UKC == \"Scenthound Group\",\"UKC\"] = \"Scenthound Dog\"\n",
    "kennel_classifications.loc[kennel_classifications.UKC == \"Sighthound and Pariah\",\"UKC\"] = \"Sighthound\"\n",
    "kennel_classifications.loc[kennel_classifications.UKC == \"Sight hound and Bear hound\",\"UKC\"] = \"Sighthound\"\n",
    "kennel_classifications.loc[kennel_classifications.UKC == \"Scenthound Dog\",\"UKC\"] = \"Scenthound\"\n",
    "\n",
    "kennel_classifications.loc[kennel_classifications.UKC == \"Sight hound\",\"UKC\"] = \"Sighthound\"\n",
    "kennel_classifications.loc[kennel_classifications.UKC == \"Northern Breeds\",\"UKC\"] = \"Northern Breed\"\n",
    "kennel_classifications.loc[kennel_classifications.TKC == \"Toys\",\"TKC\"] = \"Toy Group\"\n",
    "kennel_classifications.loc[kennel_classifications.TKC == \"Toy\",\"TKC\"] = \"Toy Group\"\n",
    "kennel_classifications.loc[kennel_classifications.TKC == \"Terriers\",\"TKC\"] = \"Terrier\"\n",
    "kennel_classifications.loc[kennel_classifications.TKC == \"Gun dog\",\"TKC\"] = \"Gundog\"\n",
    "\n"
   ]
  },
  {
   "cell_type": "code",
   "execution_count": null,
   "metadata": {
    "collapsed": false
   },
   "outputs": [],
   "source": [
    "training.loc[training.Breed == \"Pit Bull\",\"Breed\"] = \"American Pit Bull Terrier\"\n",
    "dogs.loc[dogs.Breed == \"Pit Bull\",\"Breed\"] = \"American Pit Bull Terrier\""
   ]
  },
  {
   "cell_type": "code",
   "execution_count": null,
   "metadata": {
    "collapsed": false
   },
   "outputs": [],
   "source": [
    "def dogBreedToType(breed,kennel=\"TKC\"):\n",
    "    if \"Mix\" in breed:\n",
    "        types = [\"Unknown\"]\n",
    "        breed = breed[:-4]\n",
    "    else:\n",
    "        types = []\n",
    "    breeds = breed.split(\"/\")\n",
    "    for b in breeds:\n",
    "        b = re.sub(\"Miniature\",\"\",b)\n",
    "        b = re.sub(\"Cardigan\",\"\",b)\n",
    "        close_matches = difflib.get_close_matches(b, kennel_classifications.Breed)\n",
    "        if len(close_matches) == 0:\n",
    "                types.append(\"Unknown\")\n",
    "        else:\n",
    "            close_match = close_matches[0]\n",
    "            match_breed_type = kennel_classifications[kennel_classifications.Breed == close_match][kennel].values[0]\n",
    "            types.append(match_breed_type)\n",
    "    \n",
    "    return types\n",
    "\n"
   ]
  },
  {
   "cell_type": "code",
   "execution_count": null,
   "metadata": {
    "collapsed": true
   },
   "outputs": [],
   "source": [
    "def splitType(ukc):\n",
    "    if len(ukc) == 1:\n",
    "        return pandas.Series({\"Type1\":ukc[0],\"Type2\":ukc[0]})\n",
    "    else:\n",
    "        return pandas.Series({\"Type1\":ukc[0],\"Type2\":ukc[1]})"
   ]
  },
  {
   "cell_type": "code",
   "execution_count": null,
   "metadata": {
    "collapsed": false
   },
   "outputs": [],
   "source": [
    "dog_types = dogs.Breed.apply(dogBreedToType)  \n",
    "dogs[\"UKC\"] = dog_types\n",
    "ukc_cols = dogs[\"UKC\"].apply(splitType)\n",
    "dogs_with_ukc = dogs.join(ukc_cols)\n",
    "dogs_with_ukc.Type1 = dogs_with_ukc.Type1.fillna(\"Unknown\")\n",
    "dogs_with_ukc.Type2 = dogs_with_ukc.Type2.fillna(\"Unknown\")"
   ]
  },
  {
   "cell_type": "code",
   "execution_count": null,
   "metadata": {
    "collapsed": false
   },
   "outputs": [],
   "source": [
    "dogs_with_ukc = dogs_with_ukc.sort_values([\"Type1\",\"Type2\"])\n",
    "Type1s = dogs_with_ukc.Type1.unique()\n",
    "Type2s = dogs_with_ukc.Type1.unique()\n",
    "d1 = len(Type1s)\n",
    "d2 = len(Type2s)\n",
    "d1,d2"
   ]
  },
  {
   "cell_type": "code",
   "execution_count": null,
   "metadata": {
    "collapsed": false
   },
   "outputs": [],
   "source": [
    "pairwise_rates = groupCountFractionals(dogs_with_ukc,\"OutcomeType\",[\"Type1\",\"Type2\"])\n",
    "pairwise_adoption = pairwise_rates[pairwise_rates.OutcomeType == \"Adoption\"]\n",
    "pairwise_adoption = pairwise_adoption.sort_values([\"Type1\",\"Type2\"])\n",
    "adoption_array = pairwise_adoption.Fraction.values.reshape((d1,d2))\n",
    "adoption_count_array = (pairwise_adoption.OuterCount.values)\n",
    "adoption_count_array[np.isinf(adoption_count_array)] = 0\n",
    "adoption_count_array[np.isnan(adoption_count_array)] = 0\n",
    "adoption_count_array = adoption_count_array.reshape((d1,d2))\n",
    "\n",
    "pairwise_transfer = pairwise_rates[pairwise_rates.OutcomeType == \"Transfer\"].sort_values([\"Type1\",\"Type2\"])\n",
    "pairwise_transfer = pairwise_transfer.sort_values([\"Type1\",\"Type2\"])\n",
    "transfer_array = pairwise_transfer.Fraction.values.reshape((d1,d2))\n",
    "\n",
    "\n",
    "pairwise_euthanasia = pairwise_rates[pairwise_rates.OutcomeType == \"Euthanasia\"].sort_values([\"Type1\",\"Type2\"])\n",
    "pairwise_euthanasia = pairwise_euthanasia.sort_values([\"Type1\",\"Type2\"])\n",
    "euthanasia_array = pairwise_euthanasia.Fraction.values.reshape((d1,d2))\n",
    "\n",
    "\n",
    "\n",
    "pairwise_return = pairwise_rates[pairwise_rates.OutcomeType == \"Return_to_owner\"].sort_values([\"Type1\",\"Type2\"])\n",
    "pairwise_return = pairwise_return.sort_values([\"Type1\",\"Type2\"])\n",
    "return_array = pairwise_return.Fraction.values.reshape((d1,d2))\n",
    "\n",
    "\n",
    "plt.figure(figsize=(15,18))\n",
    "\n",
    "\n",
    "plt.subplot(321)\n",
    "plt.title(\"Numbers of Dogs by TKC Group Combinations\")\n",
    "cmap = cm.get_cmap('Oranges', 20)\n",
    "plt.imshow(adoption_count_array, interpolation=\"nearest\",cmap=cmap)\n",
    "plt.grid(True)\n",
    "plt.xticks(range(len(Type1s)), Type1s, rotation='vertical')\n",
    "plt.yticks(range(len(Type1s)), Type1s, rotation='horizontal')\n",
    "plt.colorbar(fraction=0.046, pad=0.04,label = \"Log10 Count\")\n",
    "plt.tight_layout()\n",
    "\n",
    "\n",
    "\n",
    "plt.subplot(322)\n",
    "cmap = cm.get_cmap('Greens', 20) \n",
    "plt.imshow(adoption_array, interpolation=\"nearest\", cmap=cmap)\n",
    "plt.grid(True)\n",
    "plt.xticks(range(len(Type1s)), Type1s, rotation='vertical')\n",
    "plt.yticks(range(len(Type1s)), Type1s, rotation='horizontal')\n",
    "plt.colorbar(fraction=0.046, pad=0.04,label = \"Fraction Adopted\")\n",
    "plt.title(\"Adoption Rates by TKC Group Combinations\")\n",
    "\n",
    "plt.subplot(323)\n",
    "plt.title(\"Transfer Rates by TKC Group Combinations\")\n",
    "cmap = cm.get_cmap('Blues', 20)\n",
    "plt.imshow(transfer_array, interpolation=\"nearest\",cmap=cmap)\n",
    "plt.grid(True)\n",
    "plt.xticks(range(len(Type1s)), Type1s, rotation='vertical')\n",
    "plt.yticks(range(len(Type1s)), Type1s, rotation='horizontal')\n",
    "plt.colorbar(fraction=0.046, pad=0.04,label = \"Transfer Fraction\")\n",
    "\n",
    "plt.subplot(324)\n",
    "cmap = cm.get_cmap('Reds', 20) \n",
    "plt.imshow(euthanasia_array, interpolation=\"nearest\", cmap=cmap)\n",
    "plt.grid(True)\n",
    "plt.xticks(range(len(Type1s)), Type1s, rotation='vertical')\n",
    "plt.yticks(range(len(Type1s)), Type1s, rotation='horizontal')\n",
    "plt.colorbar(fraction=0.046, pad=0.04,label = \"Fraction Euthanised\")\n",
    "plt.title(\"Euthanasia Rates by TKC Group Combinations\")\n",
    "\n",
    "plt.subplot(325)\n",
    "cmap = cm.get_cmap('Blues', 20) \n",
    "plt.imshow(return_array, interpolation=\"nearest\", cmap=cmap)\n",
    "plt.grid(True)\n",
    "plt.xticks(range(len(Type1s)), Type1s, rotation='vertical')\n",
    "plt.yticks(range(len(Type1s)), Type1s, rotation='horizontal')\n",
    "plt.colorbar(fraction=0.046, pad=0.04,label = \"Fraction Returned\")\n",
    "plt.title(\"Return Rates by TKC Group Combinations\")\n",
    "\n",
    "\n",
    "\n",
    "\n",
    "\n",
    "plt.tight_layout()"
   ]
  },
  {
   "cell_type": "markdown",
   "metadata": {},
   "source": [
    "**Almost all of the dogs have at least one unknown type component. I am going to try conditioning on a single component (Type2) ignoring Type1 which is almost entirely composed of 'Unknown' values. **"
   ]
  },
  {
   "cell_type": "code",
   "execution_count": null,
   "metadata": {
    "collapsed": false
   },
   "outputs": [],
   "source": [
    "types = dogs_with_ukc.sort_values(\"Type2\").Type2.unique()\n",
    "x_vals = range(len(types))\n",
    "type_outcomes = groupCountFractionals(dogs_with_ukc,\"OutcomeType\",[\"Type2\"])\n",
    "type_adoption = type_outcomes[type_outcomes.OutcomeType == \"Adoption\"]\n",
    "type_adoption = type_adoption.sort_values([\"Type2\"])\n",
    "\n",
    "type_counts = type_adoption.OuterCount.values\n",
    "                                           \n",
    "type_transfer = type_outcomes[type_outcomes.OutcomeType == \"Transfer\"].sort_values([\"Type2\"])\n",
    "\n",
    "type_euthanasia = type_outcomes[type_outcomes.OutcomeType == \"Euthanasia\"].sort_values([\"Type2\"])\n",
    "\n",
    "\n",
    "type_return = type_outcomes[type_outcomes.OutcomeType == \"Return_to_owner\"].sort_values([\"Type2\"])\n",
    "\n",
    "type_died = type_outcomes[type_outcomes.OutcomeType == \"Died\"].sort_values([\"Type2\"])\n",
    "                                           \n",
    "plt.figure(figsize=(12,18))                                           \n",
    "plt.subplot(321)\n",
    "plt.scatter(type_adoption.OuterCount.values,type_adoption.Fraction.values,s=30)\n",
    "for i, txt in enumerate(types):\n",
    "    plt.annotate(txt, (type_adoption.OuterCount.values[i],type_adoption.Fraction.values[i]))\n",
    "mean_adoption = np.mean(type_adoption.Fraction)\n",
    "plt.axhline(mean_adoption,c='r',label = \"Mean Adoption Rate\")\n",
    "plt.legend()\n",
    "plt.ylabel(\"Fraction Adopted\")\n",
    "plt.xlabel(\"Number of Dogs in Type\")\n",
    "\n",
    "plt.subplot(322)\n",
    "plt.scatter(type_euthanasia.OuterCount.values,type_euthanasia.Fraction.values,s=30)\n",
    "for i, txt in enumerate(types):\n",
    "    plt.annotate(txt, (type_euthanasia.OuterCount.values[i],type_euthanasia.Fraction.values[i]))\n",
    "mean_euthanasia = np.mean(type_euthanasia.Fraction)\n",
    "plt.axhline(mean_euthanasia,c='r',label = \"Mean Euthanasia Rate\")\n",
    "plt.legend()\n",
    "plt.ylabel(\"Fraction Euthanised\")\n",
    "plt.xlabel(\"Number of Dogs in Type\")\n",
    "\n",
    "plt.subplot(323)\n",
    "plt.scatter(type_return.OuterCount.values,type_return.Fraction.values,s=30)\n",
    "for i, txt in enumerate(types):\n",
    "    plt.annotate(txt, (type_return.OuterCount.values[i],type_return.Fraction.values[i]))\n",
    "mean_return = np.mean(type_return.Fraction)\n",
    "plt.axhline(mean_return,c='r',label = \"Mean Return Rate\")\n",
    "plt.legend()\n",
    "plt.ylabel(\"Fraction Returned to Owner\")\n",
    "plt.xlabel(\"Number of Dogs in Type\")\n",
    "\n",
    "\n",
    "\n",
    "plt.subplot(324)\n",
    "plt.scatter(type_transfer.OuterCount.values,type_transfer.Fraction.values,s=30)\n",
    "for i, txt in enumerate(types):\n",
    "    plt.annotate(txt, (type_transfer.OuterCount.values[i],type_transfer.Fraction.values[i]))\n",
    "mean_transfer = np.mean(type_transfer.Fraction)\n",
    "plt.axhline(mean_transfer,c='r',label = \"Mean Transfer Rate\")\n",
    "plt.legend()\n",
    "plt.ylabel(\"Fraction Transferred\")\n",
    "plt.xlabel(\"Number of Dogs in Type\")\n",
    "\n",
    "plt.subplot(325)\n",
    "plt.scatter(type_died.OuterCount.values,type_died.Fraction.values,s=30)\n",
    "for i, txt in enumerate(types):\n",
    "    plt.annotate(txt, (type_died.OuterCount.values[i],type_died.Fraction.values[i]))\n",
    "mean_died = np.mean(type_died.Fraction)\n",
    "plt.axhline(mean_died,c='r',label = \"Mean Death Rate\")\n",
    "plt.legend()\n",
    "plt.ylabel(\"Fraction Died\")\n",
    "plt.xlabel(\"Number of Dogs in Type\")\n",
    "\n"
   ]
  },
  {
   "cell_type": "markdown",
   "metadata": {},
   "source": [
    "**Working dogs and dogs of completely unknown types are more likely to be euthanised.**\n",
    "\n",
    "**Terriers,Gundogs, Pastoral, and Toy Dogs are more likely to be adopted.**\n",
    "\n",
    "**Sporting, Hound, and Working dogs are more likely to be returned to their owners (Maybe these dogs are more likely to get lost in the first place if they are being used for hunting etc?).**\n",
    "\n",
    "**Utility and Toy dogs have the highest transfer rates.**\n",
    "\n",
    "**While considering dog breeds, I also want to try and capture the subjective perceptions that people my have about certain breeds. I'm going to make a list of dog breeds that make me uncomfortable**\n"
   ]
  },
  {
   "cell_type": "code",
   "execution_count": null,
   "metadata": {
    "collapsed": true
   },
   "outputs": [],
   "source": [
    "scary_breeds = [\"American Bulldog\",\"Rottweiler\",\"Mastiff\",\"Pit Bull\",\"Staffordshire\",\"Dogo Argentino\",\"Boxer\",\"Tosa\",\"Chow\"]\n",
    "def isScary(breed):\n",
    "    close_matches = []\n",
    "    breeds = breed.split(\"/\")\n",
    "    for b in breeds:\n",
    "        close_matches.extend(difflib.get_close_matches(breed,scary_breeds))\n",
    "    if len(close_matches) > 0:\n",
    "        return 1\n",
    "    else:\n",
    "        return 0"
   ]
  },
  {
   "cell_type": "code",
   "execution_count": null,
   "metadata": {
    "collapsed": false
   },
   "outputs": [],
   "source": [
    "dogs_with_ukc[\"IsScary\"] = dogs_with_ukc.Breed.apply(isScary)"
   ]
  },
  {
   "cell_type": "code",
   "execution_count": null,
   "metadata": {
    "collapsed": false
   },
   "outputs": [],
   "source": [
    "scary_outcomes = groupCountFractionals(dogs_with_ukc,\"OutcomeType\",[\"IsScary\"])\n",
    "scary_adopt = scary_outcomes[scary_outcomes.OutcomeType == \"Adoption\"]\n",
    "scary_euth = scary_outcomes[scary_outcomes.OutcomeType == \"Euthanasia\"]\n",
    "scary_return = scary_outcomes[scary_outcomes.OutcomeType == \"Return_to_owner\"]\n",
    "scary_transfer = scary_outcomes[scary_outcomes.OutcomeType == \"Transfer\"]\n",
    "scary_died = scary_outcomes[scary_outcomes.OutcomeType == \"Died\"]\n",
    "\n",
    "plt.figure(figsize=(12,12))\n",
    "plt.subplot(321)\n",
    "plt.scatter(scary_adopt.OuterCount,scary_adopt.Fraction,c=scary_adopt.IsScary)\n",
    "plt.annotate(\"Not Scary\",(scary_adopt.OuterCount.values[0],scary_adopt.Fraction.values[0]))\n",
    "plt.annotate(\"Scary\",(scary_adopt.OuterCount.values[1],scary_adopt.Fraction.values[1]))\n",
    "plt.xlabel(\"Number of Dogs\")\n",
    "plt.ylabel(\"Fraction Adopted\")\n",
    "\n",
    "plt.subplot(322)\n",
    "plt.scatter(scary_euth.OuterCount,scary_euth.Fraction,c=scary_euth.IsScary)\n",
    "plt.annotate(\"Not Scary\",(scary_euth.OuterCount.values[0],scary_euth.Fraction.values[0]))\n",
    "plt.annotate(\"Scary\",(scary_euth.OuterCount.values[1],scary_euth.Fraction.values[1]))\n",
    "plt.xlabel(\"Number of Dogs\")\n",
    "plt.ylabel(\"Fraction Euthanised\")\n",
    "\n",
    "plt.subplot(323)\n",
    "plt.scatter(scary_transfer.OuterCount,scary_transfer.Fraction,c=scary_transfer.IsScary)\n",
    "plt.annotate(\"Not Scary\",(scary_transfer.OuterCount.values[0],scary_transfer.Fraction.values[0]))\n",
    "plt.annotate(\"Scary\",(scary_transfer.OuterCount.values[1],scary_transfer.Fraction.values[1]))\n",
    "plt.xlabel(\"Number of Dogs\")\n",
    "plt.ylabel(\"Fraction Transferred\")\n",
    "\n",
    "plt.subplot(324)\n",
    "plt.scatter(scary_return.OuterCount,scary_return.Fraction,c=scary_return.IsScary)\n",
    "plt.annotate(\"Not Scary\",(scary_return.OuterCount.values[0],scary_return.Fraction.values[0]))\n",
    "plt.annotate(\"Scary\",(scary_return.OuterCount.values[1],scary_return.Fraction.values[1]))\n",
    "plt.xlabel(\"Number of Dogs\")\n",
    "plt.ylabel(\"Fraction Returned to Owner\")\n",
    "\n",
    "plt.subplot(325)\n",
    "plt.scatter(scary_died.OuterCount,scary_died.Fraction,c=scary_died.IsScary)\n",
    "plt.annotate(\"Not Scary\",(scary_died.OuterCount.values[0],scary_died.Fraction.values[0]))\n",
    "plt.annotate(\"Scary\",(scary_died.OuterCount.values[1],scary_died.Fraction.values[1]))\n",
    "plt.xlabel(\"Number of Dogs\")\n",
    "plt.ylabel(\"Fraction Died\")"
   ]
  },
  {
   "cell_type": "markdown",
   "metadata": {},
   "source": [
    "**Scary dogs are three times as likely to be euthanised as non-scary dogs, and are also less likely to be adopted. They are however more likely to be returned to their owners. As one would expect, scariness has no effect on a dog's chances of dying from natural causes.**"
   ]
  },
  {
   "cell_type": "markdown",
   "metadata": {},
   "source": [
    "## Colors\n",
    "\n",
    "**Cat Colors**"
   ]
  },
  {
   "cell_type": "code",
   "execution_count": null,
   "metadata": {
    "collapsed": false
   },
   "outputs": [],
   "source": [
    "len(cats.Color.unique())"
   ]
  },
  {
   "cell_type": "code",
   "execution_count": null,
   "metadata": {
    "collapsed": false
   },
   "outputs": [],
   "source": [
    "cat_color_outcomes = groupCountFractionals(cats,\"OutcomeType\",[\"Color\"])\n",
    "cat_color_adoption = cat_color_outcomes[cat_color_outcomes[\"OutcomeType\"] == \"Adoption\"]\n",
    "plt.figure(figsize=(16,3))\n",
    "plt.hist(cat_color_adoption.OuterCount.values,bins=30)\n",
    "plt.ylabel(\"Number of Cats with Color\")\n",
    "plt.xlabel(\"Number of Colors with Count\")"
   ]
  },
  {
   "cell_type": "markdown",
   "metadata": {},
   "source": [
    "**Most colors appear only a small number of times**"
   ]
  },
  {
   "cell_type": "code",
   "execution_count": null,
   "metadata": {
    "collapsed": false,
    "scrolled": false
   },
   "outputs": [],
   "source": [
    "#Checking for typos and alternative spellings etc\n",
    "colors = cats.Color.unique()\n",
    "colors = [c.split(\"/\") for c in colors]\n",
    "colors = [item for sublist in colors for item in sublist]\n",
    "sorted(list(set(colors)))"
   ]
  },
  {
   "cell_type": "code",
   "execution_count": null,
   "metadata": {
    "collapsed": false
   },
   "outputs": [],
   "source": [
    "len(cat_color_adoption[cat_color_adoption.OuterCount > 10][\"Color\"].unique())"
   ]
  },
  {
   "cell_type": "code",
   "execution_count": null,
   "metadata": {
    "collapsed": false,
    "scrolled": true
   },
   "outputs": [],
   "source": [
    "plt.hist(cat_color_adoption[cat_color_adoption.OuterCount > 10].OuterCount.values)\n",
    "plt.ylabel(\"Number of Cats with Color\")\n",
    "plt.xlabel(\"Number of Colors with Count\")"
   ]
  },
  {
   "cell_type": "code",
   "execution_count": null,
   "metadata": {
    "collapsed": false
   },
   "outputs": [],
   "source": [
    "common_colors = cat_color_adoption[cat_color_adoption.OuterCount > 50].Color.values"
   ]
  },
  {
   "cell_type": "code",
   "execution_count": null,
   "metadata": {
    "collapsed": true
   },
   "outputs": [],
   "source": [
    "def annotateCommonColors(color):\n",
    "    if color in common_colors:\n",
    "        return \"Color\"+ color\n",
    "    else:\n",
    "        return \"RareColor\""
   ]
  },
  {
   "cell_type": "code",
   "execution_count": null,
   "metadata": {
    "collapsed": false
   },
   "outputs": [],
   "source": [
    "cats[\"CColor\"] = cats.Color.apply(annotateCommonColors)"
   ]
  },
  {
   "cell_type": "code",
   "execution_count": null,
   "metadata": {
    "collapsed": false
   },
   "outputs": [],
   "source": [
    "cat_color_outcomes = groupCountFractionals(cats,\"OutcomeType\",[\"CColor\"])\n",
    "cat_color_adoption = cat_color_outcomes[cat_color_outcomes.OutcomeType == \"Adoption\"]\n",
    "cat_color_adoption = cat_color_adoption.sort_values([\"CColor\"])\n",
    "cat_color_counts = cat_color_adoption.OuterCount.values                                       \n",
    "cat_color_transfer = cat_color_outcomes[cat_color_outcomes.OutcomeType == \"Transfer\"].sort_values([\"CColor\"])\n",
    "cat_color_euthanasia = cat_color_outcomes[cat_color_outcomes.OutcomeType == \"Euthanasia\"].sort_values([\"CColor\"])\n",
    "cat_color_return = cat_color_outcomes[cat_color_outcomes.OutcomeType == \"Return_to_owner\"].sort_values([\"CColor\"])\n",
    "cat_color_died = cat_color_outcomes[cat_color_outcomes.OutcomeType == \"Died\"].sort_values([\"CColor\"])\n",
    "\n",
    "\n",
    "common_colors = sorted(common_colors)\n",
    "\n",
    "plt.figure(figsize=(12,18))                                           \n",
    "plt.subplot(321)\n",
    "plt.scatter(cat_color_adoption.OuterCount.values,cat_color_adoption.Fraction.values)\n",
    "mean_adopt = np.sum(cat_color_adoption.InnerCount)/np.sum(cat_color_adoption.OuterCount)\n",
    "plt.axhline(mean_adopt,c='r',label = \"Mean Adoption Rate\")\n",
    "plt.legend()\n",
    "plt.xlabel(\"Number of Cats of Color\")\n",
    "plt.ylabel(\"Fraction of Cats of Color Adopted\")\n",
    "\n",
    "\n",
    "plt.subplot(322)\n",
    "plt.scatter(cat_color_euthanasia.OuterCount.values,cat_color_euthanasia.Fraction.values)\n",
    "mean_euthanasia = np.sum(cat_color_euthanasia.InnerCount)/np.sum(cat_color_euthanasia.OuterCount)\n",
    "plt.axhline(mean_euthanasia,c='r',label = \"Mean Euthanasia Rate\")\n",
    "plt.legend()\n",
    "plt.xlabel(\"Number of Cats of Color\")\n",
    "plt.ylabel(\"Fraction of Cats of Color Euthanised\")\n",
    "\n",
    "plt.subplot(323)\n",
    "plt.scatter(cat_color_transfer.OuterCount.values,cat_color_transfer.Fraction.values)\n",
    "mean_transfer = np.sum(cat_color_transfer.InnerCount)/np.sum(cat_color_transfer.OuterCount)\n",
    "plt.axhline(mean_transfer,c='r',label = \"Mean Transfer Rate\")\n",
    "plt.legend()\n",
    "plt.xlabel(\"Number of Cats of Color\")\n",
    "plt.ylabel(\"Fraction of Cats of Color Transferred\")\n",
    "\n",
    "plt.subplot(324)\n",
    "plt.scatter(cat_color_return.OuterCount.values,cat_color_return.Fraction.values)\n",
    "mean_return = np.sum(cat_color_return.InnerCount)/np.sum(cat_color_return.OuterCount)\n",
    "plt.axhline(mean_return,c='r',label = \"Mean Return Rate\")\n",
    "plt.legend()\n",
    "plt.xlabel(\"Number of Cats of Color\")\n",
    "plt.ylabel(\"Fraction of Cats of Color Returned to Owners\")\n",
    "\n",
    "plt.subplot(325)\n",
    "plt.scatter(cat_color_died.OuterCount.values,cat_color_died.Fraction.values)\n",
    "mean_died = np.sum(cat_color_died.InnerCount)/np.sum(cat_color_died.OuterCount)\n",
    "plt.axhline(mean_died,c='r',label = \"Mean Death Rate\")\n",
    "plt.legend()\n",
    "plt.xlabel(\"Number of Cats of Color\")\n",
    "plt.ylabel(\"Fraction of Cats of Color that Died\")\n",
    "\n",
    "\n"
   ]
  },
  {
   "cell_type": "markdown",
   "metadata": {},
   "source": [
    "**There is one color that is both reasonably common and has a distinctly elevated euthanasia rate.**"
   ]
  },
  {
   "cell_type": "code",
   "execution_count": null,
   "metadata": {
    "collapsed": false
   },
   "outputs": [],
   "source": [
    "cat_color_euthanasia[(cat_color_euthanasia.OuterCount > 500) & (cat_color_euthanasia.Fraction > 0.08)]"
   ]
  },
  {
   "cell_type": "code",
   "execution_count": null,
   "metadata": {
    "collapsed": false,
    "scrolled": true
   },
   "outputs": [],
   "source": [
    "cat_euths = cats[cats.OutcomeType == \"Euthanasia\"]\n",
    "cat_euth_color_sub = groupCountFractionals(cat_euths,\"OutcomeSubtype\",[\"CColor\"])"
   ]
  },
  {
   "cell_type": "code",
   "execution_count": null,
   "metadata": {
    "collapsed": false
   },
   "outputs": [],
   "source": [
    "#Population wide euthanasia reasons\n",
    "cat_euth_color_sub.groupby([\"OutcomeSubtype\"]).agg(np.mean)"
   ]
  },
  {
   "cell_type": "code",
   "execution_count": null,
   "metadata": {
    "collapsed": false
   },
   "outputs": [],
   "source": [
    "#Rare color euthanasia reasons\n",
    "cat_euth_color_sub[cat_euth_color_sub.CColor == \"RareColor\"].groupby([\"OutcomeSubtype\"]).agg(np.mean)"
   ]
  },
  {
   "cell_type": "markdown",
   "metadata": {},
   "source": [
    "**Cats with rare colors are more likely to be euthanised.There is some indication that these animals are more prone to medical conditions leading to euthanasia, but this is not conclusive.**"
   ]
  },
  {
   "cell_type": "markdown",
   "metadata": {},
   "source": [
    "**Dog Colors**"
   ]
  },
  {
   "cell_type": "code",
   "execution_count": null,
   "metadata": {
    "collapsed": false
   },
   "outputs": [],
   "source": [
    "len(dogs_with_ukc.Color.unique())"
   ]
  },
  {
   "cell_type": "code",
   "execution_count": null,
   "metadata": {
    "collapsed": false
   },
   "outputs": [],
   "source": [
    "dog_color_outcomes = groupCountFractionals(dogs,\"OutcomeType\",[\"Color\"])\n",
    "dog_color_adoption = dog_color_outcomes[dog_color_outcomes[\"OutcomeType\"] == \"Adoption\"]\n",
    "plt.figure(figsize=(16,3))\n",
    "plt.hist(dog_color_adoption.OuterCount.values,bins=30)\n",
    "plt.ylabel(\"Number of Dogs with Color\")\n",
    "plt.xlabel(\"Number of Colors with Count\")"
   ]
  },
  {
   "cell_type": "code",
   "execution_count": null,
   "metadata": {
    "collapsed": false,
    "scrolled": true
   },
   "outputs": [],
   "source": [
    "#Checking for typos and alternative spellings etc\n",
    "colors = dogs.Color.unique()\n",
    "colors = [c.split(\"/\") for c in colors]\n",
    "colors = [item for sublist in colors for item in sublist]\n",
    "sorted(list(set(colors)))"
   ]
  },
  {
   "cell_type": "code",
   "execution_count": null,
   "metadata": {
    "collapsed": false
   },
   "outputs": [],
   "source": [
    "common_dog_colors = dog_color_adoption[dog_color_adoption.OuterCount > 10][\"Color\"].values\n",
    "def annotateCommonColors(color):\n",
    "    if color in common_dog_colors:\n",
    "        return \"Color\"+ color\n",
    "    else:\n",
    "        return \"RareColor\"\n",
    "dogs[\"CColor\"] = dogs.Color.apply(annotateCommonColors)\n"
   ]
  },
  {
   "cell_type": "code",
   "execution_count": null,
   "metadata": {
    "collapsed": false
   },
   "outputs": [],
   "source": [
    "dog_color_outcomes = groupCountFractionals(dogs,\"OutcomeType\",[\"CColor\"])\n",
    "dog_color_adoption = dog_color_outcomes[dog_color_outcomes.OutcomeType == \"Adoption\"]\n",
    "dog_color_adoption = dog_color_adoption.sort_values([\"CColor\"])\n",
    "dog_color_counts = dog_color_adoption.OuterCount.values                                       \n",
    "dog_color_transfer = dog_color_outcomes[dog_color_outcomes.OutcomeType == \"Transfer\"].sort_values([\"CColor\"])\n",
    "dog_color_euthanasia = dog_color_outcomes[dog_color_outcomes.OutcomeType == \"Euthanasia\"].sort_values([\"CColor\"])\n",
    "dog_color_return = dog_color_outcomes[dog_color_outcomes.OutcomeType == \"Return_to_owner\"].sort_values([\"CColor\"])\n",
    "dog_color_died = dog_color_outcomes[dog_color_outcomes.OutcomeType == \"Died\"].sort_values([\"CColor\"])\n"
   ]
  },
  {
   "cell_type": "code",
   "execution_count": null,
   "metadata": {
    "collapsed": false
   },
   "outputs": [],
   "source": [
    "plt.figure(figsize=(16,3))\n",
    "plt.hist(dog_color_adoption.OuterCount.values,bins=30)\n",
    "plt.ylabel(\"Number of Dogs with Color\")\n",
    "plt.xlabel(\"Number of Colors with Count\")"
   ]
  },
  {
   "cell_type": "code",
   "execution_count": null,
   "metadata": {
    "collapsed": false
   },
   "outputs": [],
   "source": [
    "dog_color_outcomes = groupCountFractionals(dogs,\"OutcomeType\",[\"CColor\"])\n",
    "dog_color_adoption = dog_color_outcomes[dog_color_outcomes.OutcomeType == \"Adoption\"]\n",
    "dog_color_adoption = dog_color_adoption.sort_values([\"CColor\"])\n",
    "dog_color_counts = dog_color_adoption.OuterCount.values                                       \n",
    "dog_color_transfer = dog_color_outcomes[dog_color_outcomes.OutcomeType == \"Transfer\"].sort_values([\"CColor\"])\n",
    "dog_color_euthanasia = dog_color_outcomes[dog_color_outcomes.OutcomeType == \"Euthanasia\"].sort_values([\"CColor\"])\n",
    "dog_color_return = dog_color_outcomes[dog_color_outcomes.OutcomeType == \"Return_to_owner\"].sort_values([\"CColor\"])\n",
    "dog_color_died = dog_color_outcomes[dog_color_outcomes.OutcomeType == \"Died\"].sort_values([\"CColor\"])\n",
    "\n",
    "\n",
    "common_colors = sorted(common_dog_colors)\n",
    "\n",
    "plt.figure(figsize=(12,18))                                           \n",
    "plt.subplot(321)\n",
    "plt.scatter(dog_color_adoption.OuterCount.values,dog_color_adoption.Fraction.values)\n",
    "mean_adopt = np.sum(dog_color_adoption.InnerCount)/np.sum(dog_color_adoption.OuterCount)\n",
    "plt.axhline(mean_adopt,c='r',label = \"Mean Adoption Rate\")\n",
    "plt.legend()\n",
    "plt.xlabel(\"Number of Dogs of Color\")\n",
    "plt.ylabel(\"Fraction of Dogs of Color Adopted\")\n",
    "\n",
    "\n",
    "plt.subplot(322)\n",
    "plt.scatter(dog_color_euthanasia.OuterCount.values,dog_color_euthanasia.Fraction.values)\n",
    "mean_euthanasia = np.sum(dog_color_euthanasia.InnerCount)/np.sum(dog_color_euthanasia.OuterCount)\n",
    "plt.axhline(mean_euthanasia,c='r',label = \"Mean Euthanasia Rate\")\n",
    "plt.legend()\n",
    "plt.xlabel(\"Number of Dogs of Color\")\n",
    "plt.ylabel(\"Fraction of Dogs of Color Euthanised\")\n",
    "\n",
    "plt.subplot(323)\n",
    "plt.scatter(dog_color_transfer.OuterCount.values,dog_color_transfer.Fraction.values)\n",
    "mean_transfer = np.sum(dog_color_transfer.InnerCount)/np.sum(dog_color_transfer.OuterCount)\n",
    "plt.axhline(mean_transfer,c='r',label = \"Mean Transfer Rate\")\n",
    "plt.legend()\n",
    "plt.xlabel(\"Number of Dogs of Color\")\n",
    "plt.ylabel(\"Fraction of Dogs of Color Transferred\")\n",
    "\n",
    "plt.subplot(324)\n",
    "plt.scatter(dog_color_return.OuterCount.values,dog_color_return.Fraction.values)\n",
    "mean_return = np.sum(dog_color_return.InnerCount)/np.sum(dog_color_return.OuterCount)\n",
    "plt.axhline(mean_return,c='r',label = \"Mean Return Rate\")\n",
    "plt.legend()\n",
    "plt.xlabel(\"Number of Dogs of Color\")\n",
    "plt.ylabel(\"Fraction of Dogs of Color Returned to Owners\")\n",
    "\n",
    "plt.subplot(325)\n",
    "plt.scatter(dog_color_died.OuterCount.values,dog_color_died.Fraction.values)\n",
    "mean_died = np.sum(dog_color_died.InnerCount)/np.sum(dog_color_died.OuterCount)\n",
    "plt.axhline(mean_died,c='r',label = \"Mean Death Rate\")\n",
    "plt.legend()\n",
    "plt.xlabel(\"Number of Dogs of Color\")\n",
    "plt.ylabel(\"Fraction of Dogs of Color that Died\")\n",
    "\n",
    "\n"
   ]
  },
  {
   "cell_type": "markdown",
   "metadata": {},
   "source": [
    "# Temporal Clustering\n",
    "\n",
    "**I have a suspicion that events might occur in clusters (eg a whole bunch of cats get put in a van and transferred in one hit). This was supported by the patterns seen earlier in the hour-day plots.**"
   ]
  },
  {
   "cell_type": "code",
   "execution_count": null,
   "metadata": {
    "collapsed": false
   },
   "outputs": [],
   "source": [
    "cats = cats.sort_values(\"CumulativeTime\")\n",
    "dogs = dogs.sort_values(\"CumulativeTime\")\n"
   ]
  },
  {
   "cell_type": "code",
   "execution_count": null,
   "metadata": {
    "collapsed": false
   },
   "outputs": [],
   "source": [
    "last_euth = 0\n",
    "last_adopt = 0\n",
    "last_transfer=0\n",
    "last_death = 0\n",
    "last_return = 0\n",
    "\n",
    "def annotateIntervals(row):\n",
    "    global last_adopt\n",
    "    global last_euth\n",
    "    global last_transfer\n",
    "    global last_death\n",
    "    global last_return\n",
    "    row_time = row.CumulativeTime\n",
    "    row.loc[\"LastAdopt\"] = row_time - last_adopt\n",
    "    row.loc[\"LastTransfer\"] = row_time - last_transfer\n",
    "    row.loc[\"LastEuthanasia\"] = row_time - last_euth\n",
    "    row.loc[\"LastDeath\"] = row_time - last_death\n",
    "    row.loc[\"LastReturn\"] = row_time - last_return\n",
    "    row_event = row.OutcomeType\n",
    "    if row_event == \"Adoption\":\n",
    "        last_adopt = row_time\n",
    "    elif row_event == \"Euthanasia\":\n",
    "        last_euth = row_time\n",
    "    elif row_event == \"Transfer\":\n",
    "        last_transfer = row_time\n",
    "    elif row_event == \"Return_to_owner\":\n",
    "        last_return = row_time\n",
    "    elif row_event == \"Died\":\n",
    "        last_death = row_time\n",
    "    return row\n",
    "\n",
    "dogs = dogs.apply(annotateIntervals,axis=1)"
   ]
  },
  {
   "cell_type": "code",
   "execution_count": null,
   "metadata": {
    "collapsed": false
   },
   "outputs": [],
   "source": [
    "plt.figure(figsize=(16,16))\n",
    "plt.subplot(321)\n",
    "density = kde.gaussian_kde(dogs.LastAdopt.values)\n",
    "x = np.arange(0,30,1)\n",
    "plt.plot(x,density(x),label=\"All Events\")\n",
    "adopt_only = dogs[dogs.OutcomeType == \"Adoption\"]\n",
    "density = kde.gaussian_kde(adopt_only.LastAdopt.values)\n",
    "x = np.arange(0,30,0.1)\n",
    "plt.plot(x,density(x),label=\"Adoptions Only\")\n",
    "plt.xlabel(\"Last Adoption\")\n",
    "plt.ylabel(\"Fraction of Events\")\n",
    "plt.legend()\n",
    "\n",
    "plt.subplot(322)\n",
    "density = kde.gaussian_kde(dogs.LastEuthanasia.values)\n",
    "x = np.arange(0,30,1)\n",
    "plt.plot(x,density(x),label=\"All Events\")\n",
    "adopt_only = dogs[dogs.OutcomeType == \"Euthanasia\"]\n",
    "density = kde.gaussian_kde(adopt_only.LastEuthanasia.values)\n",
    "x = np.arange(0,30,1)\n",
    "plt.plot(x,density(x),label=\"Euthanasias Only\")\n",
    "plt.xlabel(\"Last Euthanasia\")\n",
    "plt.ylabel(\"Fraction of Events\")\n",
    "plt.legend()\n",
    "\n",
    "\n",
    "plt.subplot(323)\n",
    "density = kde.gaussian_kde(dogs.LastTransfer.values)\n",
    "x = np.arange(0,30,1)\n",
    "plt.plot(x,density(x),label=\"All Events\")\n",
    "adopt_only = dogs[dogs.OutcomeType == \"Transfer\"]\n",
    "density = kde.gaussian_kde(adopt_only.LastTransfer.values)\n",
    "x = np.arange(0,30,1)\n",
    "plt.plot(x,density(x),label=\"Transfers Only\")\n",
    "plt.xlabel(\"Last Transfer\")\n",
    "plt.ylabel(\"Fraction of Events\")\n",
    "plt.legend()\n",
    "\n",
    "plt.subplot(324)\n",
    "density = kde.gaussian_kde(dogs.LastReturn.values)\n",
    "x = np.arange(0,30,1)\n",
    "plt.plot(x,density(x),label=\"All Events\")\n",
    "adopt_only = dogs[dogs.OutcomeType == \"Return_to_owner\"]\n",
    "density = kde.gaussian_kde(adopt_only.LastReturn.values)\n",
    "x = np.arange(0,30,1)\n",
    "plt.plot(x,density(x),label=\"Returns Only\")\n",
    "plt.xlabel(\"Last Return\")\n",
    "plt.ylabel(\"Fraction of Events\")\n",
    "plt.legend()\n",
    "\n",
    "\n",
    "plt.subplot(325)\n",
    "density = kde.gaussian_kde(dogs.LastDeath.values)\n",
    "x = np.arange(0,30,1)\n",
    "plt.plot(x,density(x),label=\"All Events\")\n",
    "adopt_only = dogs[dogs.OutcomeType == \"Died\"]\n",
    "density = kde.gaussian_kde(adopt_only.LastDeath.values)\n",
    "x = np.arange(0,30,1)\n",
    "plt.plot(x,density(x),label=\"Deaths Only\")\n",
    "plt.xlabel(\"Last Death\")\n",
    "plt.ylabel(\"Fraction of Events\")\n",
    "plt.legend()"
   ]
  },
  {
   "cell_type": "code",
   "execution_count": null,
   "metadata": {
    "collapsed": false
   },
   "outputs": [],
   "source": [
    "last_euth = 0\n",
    "last_adopt = 0\n",
    "last_transfer=0\n",
    "last_death = 0\n",
    "last_return = 0\n",
    "\n",
    "def annotateIntervals(row):\n",
    "    global last_adopt\n",
    "    global last_euth\n",
    "    global last_transfer\n",
    "    global last_death\n",
    "    global last_return\n",
    "    row_time = row.CumulativeTime\n",
    "    row.loc[\"LastAdopt\"] = row_time - last_adopt\n",
    "    row.loc[\"LastTransfer\"] = row_time - last_transfer\n",
    "    row.loc[\"LastEuthanasia\"] = row_time - last_euth\n",
    "    row.loc[\"LastDeath\"] = row_time - last_death\n",
    "    row.loc[\"LastReturn\"] = row_time - last_return\n",
    "    row_event = row.OutcomeType\n",
    "    if row_event == \"Adoption\":\n",
    "        last_adopt = row_time\n",
    "    elif row_event == \"Euthanasia\":\n",
    "        last_euth = row_time\n",
    "    elif row_event == \"Transfer\":\n",
    "        last_transfer = row_time\n",
    "    elif row_event == \"Return_to_owner\":\n",
    "        last_return = row_time\n",
    "    elif row_event == \"Died\":\n",
    "        last_death = row_time\n",
    "    return row\n",
    "\n",
    "cats = cats.apply(annotateIntervals,axis=1)\n",
    "plt.figure(figsize=(16,16))\n",
    "plt.subplot(321)\n",
    "density = kde.gaussian_kde(cats.LastAdopt.values)\n",
    "x = np.arange(0,30,1)\n",
    "plt.plot(x,density(x),label=\"All Events\")\n",
    "adopt_only = cats[cats.OutcomeType == \"Adoption\"]\n",
    "density = kde.gaussian_kde(adopt_only.LastAdopt.values)\n",
    "x = np.arange(0,30,0.1)\n",
    "plt.plot(x,density(x),label=\"Adoptions Only\")\n",
    "plt.xlabel(\"Last Adoption\")\n",
    "plt.ylabel(\"Fraction of Events\")\n",
    "plt.legend()\n",
    "\n",
    "plt.subplot(322)\n",
    "density = kde.gaussian_kde(cats.LastEuthanasia.values)\n",
    "x = np.arange(0,30,1)\n",
    "plt.plot(x,density(x),label=\"All Events\")\n",
    "adopt_only = cats[cats.OutcomeType == \"Euthanasia\"]\n",
    "density = kde.gaussian_kde(adopt_only.LastEuthanasia.values)\n",
    "x = np.arange(0,30,1)\n",
    "plt.plot(x,density(x),label=\"Euthanasias Only\")\n",
    "plt.xlabel(\"Last Euthanasia\")\n",
    "plt.ylabel(\"Fraction of Events\")\n",
    "plt.legend()\n",
    "\n",
    "\n",
    "plt.subplot(323)\n",
    "density = kde.gaussian_kde(cats.LastTransfer.values)\n",
    "x = np.arange(0,30,1)\n",
    "plt.plot(x,density(x),label=\"All Events\")\n",
    "adopt_only = cats[cats.OutcomeType == \"Transfer\"]\n",
    "density = kde.gaussian_kde(adopt_only.LastTransfer.values)\n",
    "x = np.arange(0,30,1)\n",
    "plt.plot(x,density(x),label=\"Transfers Only\")\n",
    "plt.xlabel(\"Last Transfer\")\n",
    "plt.ylabel(\"Fraction of Events\")\n",
    "plt.legend()\n",
    "\n",
    "plt.subplot(324)\n",
    "density = kde.gaussian_kde(cats.LastReturn.values)\n",
    "x = np.arange(0,30,1)\n",
    "plt.plot(x,density(x),label=\"All Events\")\n",
    "adopt_only = cats[cats.OutcomeType == \"Return_to_owner\"]\n",
    "density = kde.gaussian_kde(adopt_only.LastReturn.values)\n",
    "x = np.arange(0,30,1)\n",
    "plt.plot(x,density(x),label=\"Returns Only\")\n",
    "plt.xlabel(\"Last Return\")\n",
    "plt.ylabel(\"Fraction of Events\")\n",
    "plt.legend()\n",
    "\n",
    "\n",
    "plt.subplot(325)\n",
    "density = kde.gaussian_kde(cats.LastDeath.values)\n",
    "x = np.arange(0,30,1)\n",
    "plt.plot(x,density(x),label=\"All Events\")\n",
    "adopt_only = cats[cats.OutcomeType == \"Died\"]\n",
    "density = kde.gaussian_kde(adopt_only.LastDeath.values)\n",
    "x = np.arange(0,30,1)\n",
    "plt.plot(x,density(x),label=\"Deaths Only\")\n",
    "plt.xlabel(\"Last Death\")\n",
    "plt.ylabel(\"Fraction of Events\")\n",
    "plt.legend()"
   ]
  },
  {
   "cell_type": "markdown",
   "metadata": {},
   "source": [
    "# Checking the time distributions of the training and testing sets.\n"
   ]
  },
  {
   "cell_type": "code",
   "execution_count": null,
   "metadata": {
    "collapsed": false
   },
   "outputs": [],
   "source": [
    "test = pandas.read_csv(\"test.csv\",encoding='utf-8')\n",
    "test.DateTime = pandas.to_datetime(test.DateTime)\n",
    "test[\"CumulativeTime\"] = test.DateTime.apply(lambda x: pandas.Timedelta(x - pandas.Timestamp('2013-10-01 09:31:00'),'m') )\n",
    "test.CumulativeTime = test.CumulativeTime/ np.timedelta64(1, 'h')"
   ]
  },
  {
   "cell_type": "code",
   "execution_count": null,
   "metadata": {
    "collapsed": false
   },
   "outputs": [],
   "source": [
    "plt.figure(figsize=(12,6))\n",
    "plt.subplot(211)\n",
    "plt.hist(test.CumulativeTime)\n",
    "plt.subplot(212)\n",
    "plt.hist(training.CumulativeTime)"
   ]
  },
  {
   "cell_type": "markdown",
   "metadata": {},
   "source": [
    "**The training and testing sets have identical time distributions**"
   ]
  },
  {
   "cell_type": "code",
   "execution_count": null,
   "metadata": {
    "collapsed": false
   },
   "outputs": [],
   "source": [
    "dog_type_dummies = pandas.get_dummies(dogs_with_ukc.Type2)\n",
    "dog_type_dummies.columns = [\"Type\" + t for t in dog_type_dummies.columns]\n",
    "dog_type_cols = dog_type_dummies.columns\n",
    "dogs = dogs_with_ukc.join(dog_type_dummies)"
   ]
  },
  {
   "cell_type": "code",
   "execution_count": null,
   "metadata": {
    "collapsed": false
   },
   "outputs": [],
   "source": [
    "dogs[\"Year\"] = dogs.DateTime.dt.year\n",
    "dogs.columns"
   ]
  },
  {
   "cell_type": "code",
   "execution_count": null,
   "metadata": {
    "collapsed": false
   },
   "outputs": [],
   "source": [
    "dogs[\"EventCount\"] = 1\n",
    "dogs_monthly_turnover = dogs.groupby([\"Year\",\"Month\"]).count()[\"EventCount\"]\n",
    "dogs_monthly_turnover = dogs_monthly_turnover.reset_index()\n",
    "dogs_monthly_turnover[\"ElapsedMonths\"] = (dogs_monthly_turnover.Year- np.min(dogs_monthly_turnover.Year)) * 12 + dogs_monthly_turnover.Month\n",
    "\n",
    "plt.figure(figsize=(16,5))\n",
    "plt.plot(dogs_monthly_turnover.ElapsedMonths,dogs_monthly_turnover.EventCount)\n",
    "plt.scatter(dogs_monthly_turnover.ElapsedMonths,dogs_monthly_turnover.EventCount)\n",
    "plt.xlabel(\"Month\")\n",
    "plt.ylabel(\"Number of Dog Events\")"
   ]
  },
  {
   "cell_type": "code",
   "execution_count": null,
   "metadata": {
    "collapsed": false,
    "scrolled": true
   },
   "outputs": [],
   "source": [
    "dogs_month_type_volumes = dogs.groupby([\"Month\",\"Year\",\"Type2\"]).agg(np.sum)[\"EventCount\"].reset_index()\n",
    "dogs_month_type_volumes[\"ElapsedMonths\"] = (dogs_month_type_volumes.Year- np.min(dogs_month_type_volumes.Year)) * 12 + dogs_month_type_volumes.Month\n",
    "plt.figure(figsize=(16,5))\n",
    "for p in dogs_month_type_volumes.Type2.unique():\n",
    "    d = dogs_month_type_volumes[dogs_month_type_volumes.Type2 == p].sort_values(\"ElapsedMonths\")\n",
    "    plt.plot(d.ElapsedMonths,d.EventCount,label=p)\n",
    "plt.legend()\n",
    "plt.xlabel(\"Month\")\n",
    "plt.ylabel(\"Dog Type Event Volume\")"
   ]
  },
  {
   "cell_type": "code",
   "execution_count": null,
   "metadata": {
    "collapsed": false
   },
   "outputs": [],
   "source": [
    "cats[\"EventCount\"] = 1\n",
    "cats_monthly_turnover = cats.groupby([\"Year\",\"Month\"]).count()[\"EventCount\"]\n",
    "cats_monthly_turnover = cats_monthly_turnover.reset_index()\n",
    "cats_monthly_turnover[\"ElapsedMonths\"] = (cats_monthly_turnover.Year- np.min(cats_monthly_turnover.Year)) * 12 + cats_monthly_turnover.Month\n",
    "\n",
    "plt.figure(figsize=(16,5))\n",
    "plt.plot(cats_monthly_turnover.ElapsedMonths,cats_monthly_turnover.EventCount)\n",
    "plt.scatter(cats_monthly_turnover.ElapsedMonths,cats_monthly_turnover.EventCount)\n",
    "plt.xlabel(\"Month\")\n",
    "plt.ylabel(\"Number of Cat Events\")"
   ]
  },
  {
   "cell_type": "markdown",
   "metadata": {},
   "source": [
    "**Cats have a a strong annual pattern in terms of event volume. This is probably due to \"kitten season\" each year.**"
   ]
  },
  {
   "cell_type": "code",
   "execution_count": null,
   "metadata": {
    "collapsed": true
   },
   "outputs": [],
   "source": []
  }
 ],
 "metadata": {
  "kernelspec": {
   "display_name": "Python 2",
   "language": "python",
   "name": "python2"
  },
  "language_info": {
   "codemirror_mode": {
    "name": "ipython",
    "version": 2
   },
   "file_extension": ".py",
   "mimetype": "text/x-python",
   "name": "python",
   "nbconvert_exporter": "python",
   "pygments_lexer": "ipython2",
   "version": "2.7.10"
  }
 },
 "nbformat": 4,
 "nbformat_minor": 0
}
